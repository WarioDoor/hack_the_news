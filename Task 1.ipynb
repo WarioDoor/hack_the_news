{
 "cells": [
  {
   "cell_type": "code",
   "execution_count": null,
   "metadata": {},
   "outputs": [],
   "source": [
    "# Team Leopard"
   ]
  },
  {
   "cell_type": "code",
   "execution_count": 2,
   "metadata": {},
   "outputs": [],
   "source": [
    "from sklearn.feature_extraction.text import TfidfVectorizer, CountVectorizer\n",
    "from sklearn.pipeline import Pipeline\n",
    "from sklearn.metrics import f1_score\n",
    "from sklearn.linear_model import LogisticRegression\n",
    "from sklearn.utils import shuffle\n",
    "import pandas as pd\n",
    "import numpy as np\n",
    "import matplotlib.pyplot as plt\n",
    "import seaborn as sns\n",
    "plt.style.use('ggplot')\n",
    "%matplotlib inline\n",
    "seed=1234"
   ]
  },
  {
   "cell_type": "code",
   "execution_count": 3,
   "metadata": {},
   "outputs": [],
   "source": [
    "# read the data from txt, tab separeted\n",
    "df= pd.read_table('datasets-v3_1/task-1/task1.train.txt', header= None)"
   ]
  },
  {
   "cell_type": "code",
   "execution_count": 4,
   "metadata": {},
   "outputs": [],
   "source": [
    "df.columns = ['text', 'id', 'label']\n",
    "df.set_index('id', inplace= True)"
   ]
  },
  {
   "cell_type": "code",
   "execution_count": 5,
   "metadata": {},
   "outputs": [
    {
     "data": {
      "text/html": [
       "<div>\n",
       "<style scoped>\n",
       "    .dataframe tbody tr th:only-of-type {\n",
       "        vertical-align: middle;\n",
       "    }\n",
       "\n",
       "    .dataframe tbody tr th {\n",
       "        vertical-align: top;\n",
       "    }\n",
       "\n",
       "    .dataframe thead th {\n",
       "        text-align: right;\n",
       "    }\n",
       "</style>\n",
       "<table border=\"1\" class=\"dataframe\">\n",
       "  <thead>\n",
       "    <tr style=\"text-align: right;\">\n",
       "      <th></th>\n",
       "      <th>text</th>\n",
       "      <th>label</th>\n",
       "    </tr>\n",
       "    <tr>\n",
       "      <th>id</th>\n",
       "      <th></th>\n",
       "      <th></th>\n",
       "    </tr>\n",
       "  </thead>\n",
       "  <tbody>\n",
       "    <tr>\n",
       "      <th>727600136</th>\n",
       "      <td>Et tu, Rhody?  A recent editorial in the Provi...</td>\n",
       "      <td>non-propaganda</td>\n",
       "    </tr>\n",
       "    <tr>\n",
       "      <th>731714618</th>\n",
       "      <td>A recent post in The Farmington Mirror — our t...</td>\n",
       "      <td>non-propaganda</td>\n",
       "    </tr>\n",
       "    <tr>\n",
       "      <th>731714635</th>\n",
       "      <td>President Donald Trump, as he often does while...</td>\n",
       "      <td>non-propaganda</td>\n",
       "    </tr>\n",
       "  </tbody>\n",
       "</table>\n",
       "</div>"
      ],
      "text/plain": [
       "                                                        text           label\n",
       "id                                                                          \n",
       "727600136  Et tu, Rhody?  A recent editorial in the Provi...  non-propaganda\n",
       "731714618  A recent post in The Farmington Mirror — our t...  non-propaganda\n",
       "731714635  President Donald Trump, as he often does while...  non-propaganda"
      ]
     },
     "execution_count": 5,
     "metadata": {},
     "output_type": "execute_result"
    }
   ],
   "source": [
    "df[:3]"
   ]
  },
  {
   "cell_type": "markdown",
   "metadata": {},
   "source": [
    "## Text Analysis"
   ]
  },
  {
   "cell_type": "code",
   "execution_count": 6,
   "metadata": {},
   "outputs": [
    {
     "data": {
      "text/plain": [
       "Text(0.5, 0, 'n of articles')"
      ]
     },
     "execution_count": 6,
     "metadata": {},
     "output_type": "execute_result"
    },
    {
     "data": {
      "image/png": "[encoded data removed]",
      "text/plain": [
       "<Figure size 432x288 with 1 Axes>"
      ]
     },
     "metadata": {
      "needs_background": "light"
     },
     "output_type": "display_data"
    }
   ],
   "source": [
    "df['label'].value_counts(normalize= True).plot(kind='barh')\n",
    "plt.title('Articles per Category')\n",
    "plt.xlabel('n of articles')"
   ]
  },
  {
   "cell_type": "code",
   "execution_count": 7,
   "metadata": {},
   "outputs": [],
   "source": [
    "# mapping 1 propaganda, 0 non propaganda\n",
    "MAP= {'propaganda':1, 'non-propaganda':0}\n",
    "df['cat']= df['label'].map(MAP)"
   ]
  },
  {
   "cell_type": "code",
   "execution_count": 8,
   "metadata": {},
   "outputs": [],
   "source": [
    "def plot_n_len(ser):\n",
    "    '''Given a Series containing text, isualize words number and count distribution per article.\n",
    "    return total number of words'''\n",
    "    results = set()\n",
    "    ser.str.lower().str.split().apply(results.update)\n",
    "    print(f'Total number of words: {len(results)}')\n",
    "    l_art = ser.apply(lambda words: len(words.split(\" \")))\n",
    "    plt.figure(figsize=(8, 5))\n",
    "    sns.boxplot(x= l_art, orient= 'h',)\n",
    "    plt.title('Number of Words per Article')\n",
    "    return len(results)"
   ]
  },
  {
   "cell_type": "code",
   "execution_count": 9,
   "metadata": {},
   "outputs": [
    {
     "name": "stdout",
     "output_type": "stream",
     "text": [
      "Total number of words: 562249\n"
     ]
    },
    {
     "data": {
      "image/png": "[encoded data removed]",
      "text/plain": [
       "<Figure size 576x360 with 1 Axes>"
      ]
     },
     "metadata": {
      "needs_background": "light"
     },
     "output_type": "display_data"
    }
   ],
   "source": [
    "n_words1= plot_n_len(df['text'])"
   ]
  },
  {
   "cell_type": "markdown",
   "metadata": {},
   "source": [
    "## Text Analysis -  Cleaning"
   ]
  },
  {
   "cell_type": "code",
   "execution_count": 15,
   "metadata": {},
   "outputs": [],
   "source": [
    "# mappinf of contractions\n",
    "contractions = {\"ain't\": \"is not\", \"aren't\": \"are not\",\"can't\": \"cannot\", \n",
    "                   \"can't've\": \"cannot have\", \"'cause\": \"because\", \"could've\": \"could have\", \n",
    "                   \"couldn't\": \"could not\", \"couldn't've\": \"could not have\",\"didn't\": \"did not\", \n",
    "                   \"doesn't\": \"does not\", \"don't\": \"do not\", \"hadn't\": \"had not\", \n",
    "                   \"hadn't've\": \"had not have\", \"hasn't\": \"has not\", \"haven't\": \"have not\", \n",
    "                   \"he'd\": \"he would\", \"he'd've\": \"he would have\", \"he'll\": \"he will\", \n",
    "                   \"he'll've\": \"he will have\", \"he's\": \"he is\", \"how'd\": \"how did\", \n",
    "                   \"how'd'y\": \"how do you\", \"how'll\": \"how will\", \"how's\": \"how is\", \n",
    "                   \"I'd\": \"I would\", \"I'd've\": \"I would have\", \"I'll\": \"I will\", \n",
    "                   \"I'll've\": \"I will have\",\"I'm\": \"I am\", \"I've\": \"I have\", \n",
    "                   \"i'd\": \"i would\", \"i'd've\": \"i would have\", \"i'll\": \"i will\", \n",
    "                   \"i'll've\": \"i will have\",\"i'm\": \"i am\", \"i've\": \"i have\", \n",
    "                   \"isn't\": \"is not\", \"it'd\": \"it would\", \"it'd've\": \"it would have\", \n",
    "                   \"it'll\": \"it will\", \"it'll've\": \"it will have\",\"it's\": \"it is\", \n",
    "                   \"let's\": \"let us\", \"ma'am\": \"madam\", \"mayn't\": \"may not\", \n",
    "                   \"might've\": \"might have\",\"mightn't\": \"might not\",\"mightn't've\": \"might not have\", \n",
    "                   \"must've\": \"must have\", \"mustn't\": \"must not\", \"mustn't've\": \"must not have\", \n",
    "                   \"needn't\": \"need not\", \"needn't've\": \"need not have\",\"o'clock\": \"of the clock\", \n",
    "                   \"oughtn't\": \"ought not\", \"oughtn't've\": \"ought not have\", \"shan't\": \"shall not\",\n",
    "                   \"sha'n't\": \"shall not\", \"shan't've\": \"shall not have\", \"she'd\": \"she would\", \n",
    "                   \"she'd've\": \"she would have\", \"she'll\": \"she will\", \"she'll've\": \"she will have\", \n",
    "                   \"she's\": \"she is\", \"should've\": \"should have\", \"shouldn't\": \"should not\", \n",
    "                   \"shouldn't've\": \"should not have\", \"so've\": \"so have\",\"so's\": \"so as\", \n",
    "                   \"this's\": \"this is\",\n",
    "                   \"that'd\": \"that would\", \"that'd've\": \"that would have\",\"that's\": \"that is\", \n",
    "                   \"there'd\": \"there would\", \"there'd've\": \"there would have\",\"there's\": \"there is\", \n",
    "                       \"here's\": \"here is\",\n",
    "                   \"they'd\": \"they would\", \"they'd've\": \"they would have\", \"they'll\": \"they will\", \n",
    "                   \"they'll've\": \"they will have\", \"they're\": \"they are\", \"they've\": \"they have\", \n",
    "                   \"to've\": \"to have\", \"wasn't\": \"was not\", \"we'd\": \"we would\", \n",
    "                   \"we'd've\": \"we would have\", \"we'll\": \"we will\", \"we'll've\": \"we will have\", \n",
    "                   \"we're\": \"we are\", \"we've\": \"we have\", \"weren't\": \"were not\", \n",
    "                   \"what'll\": \"what will\", \"what'll've\": \"what will have\", \"what're\": \"what are\", \n",
    "                   \"what's\": \"what is\", \"what've\": \"what have\", \"when's\": \"when is\", \n",
    "                   \"when've\": \"when have\", \"where'd\": \"where did\", \"where's\": \"where is\", \n",
    "                   \"where've\": \"where have\", \"who'll\": \"who will\", \"who'll've\": \"who will have\", \n",
    "                   \"who's\": \"who is\", \"who've\": \"who have\", \"why's\": \"why is\", \n",
    "                   \"why've\": \"why have\", \"will've\": \"will have\", \"won't\": \"will not\", \n",
    "                   \"won't've\": \"will not have\", \"would've\": \"would have\", \"wouldn't\": \"would not\", \n",
    "                   \"wouldn't've\": \"would not have\", \"y'all\": \"you all\", \"y'all'd\": \"you all would\",\n",
    "                   \"y'all'd've\": \"you all would have\",\"y'all're\": \"you all are\",\"y'all've\": \"you all have\",\n",
    "                   \"you'd\": \"you would\", \"you'd've\": \"you would have\", \"you'll\": \"you will\", \n",
    "                   \"you'll've\": \"you will have\", \"you're\": \"you are\", \"you've\": \"you have\" } "
   ]
  },
  {
   "cell_type": "code",
   "execution_count": 2,
   "metadata": {},
   "outputs": [],
   "source": [
    "# clean the text\n",
    "import re\n",
    "import string\n",
    "import spacy\n",
    "from spacy.lang.en.stop_words import STOP_WORDS\n",
    "nlp = spacy.load('en_core_web_sm')\n",
    "punctuations = string.punctuation\n",
    "\n",
    "def text_cleaner(text):\n",
    "    '''Given a text Serie, return the Serie cleaned ( space separated, low, special/digits removed)'''\n",
    "    text = re.sub(\"„\", \" \", text)    \n",
    "    text = re.sub(r'[0-9]+', ' ', text)\n",
    "    text = re.sub(r'[\\n\\t]', ' ', text)\n",
    "    text = re.sub(r\"'s\", '', text)\n",
    "    text = re.sub(\"’\", \"'\", text)\n",
    "    expanded = ' '.join([contractions[t] if t in contractions else t for t in text.split(\" \")])\n",
    "    tokens = nlp(expanded, disable=['parser', 'ner'])\n",
    "    tokens = [t.lemma_.lower().strip() for t in tokens if t.lemma_ != '-PRON-']\n",
    "    tokens = [t for t in tokens if t not in STOP_WORDS \n",
    "              and t not in punctuations and t.isdigit() == False and len(t)>2]\n",
    "    tokens = ' '.join(tokens)\n",
    "\n",
    "    return tokens"
   ]
  },
  {
   "cell_type": "code",
   "execution_count": 271,
   "metadata": {},
   "outputs": [
    {
     "name": "stdout",
     "output_type": "stream",
     "text": [
      "1.24 s ± 162 ms per loop (mean ± std. dev. of 7 runs, 1 loop each)\n"
     ]
    }
   ],
   "source": [
    "%timeit df['text'].iloc[:10].apply(text_cleaner)"
   ]
  },
  {
   "cell_type": "code",
   "execution_count": 272,
   "metadata": {},
   "outputs": [
    {
     "data": {
      "text/plain": [
       "id\n",
       "727600136    rhody recent editorial providence journal cata...\n",
       "731714618    recent post farmington mirror town version oni...\n",
       "731714635    president donald trump respond natural disaste...\n",
       "728627182    february black history month loom large black ...\n",
       "728627443    snow heavy whip gust wind travel nearly imposs...\n",
       "732126660    month sandy hook school shooting connecticut l...\n",
       "728144791    major newspaper article donald trump describe ...\n",
       "728605281    year start new york art dealer robert simon si...\n",
       "731383701    president donald trump tumultuous administrati...\n",
       "734075146    hartford edge future aetna cvs health corp. ch...\n",
       "Name: text, dtype: object"
      ]
     },
     "execution_count": 272,
     "metadata": {},
     "output_type": "execute_result"
    }
   ],
   "source": [
    "df['text'].iloc[:10].apply(text_cleaner)"
   ]
  },
  {
   "cell_type": "code",
   "execution_count": 30,
   "metadata": {},
   "outputs": [],
   "source": [
    "# to be reactivated if needed\n",
    "import pickle\n",
    "'''\n",
    "df['text_clean']= df['text'].apply(text_cleaner)\n",
    "#dump to picle\n",
    "df.to_pickle('cleaned.pkl')\n",
    "'''"
   ]
  },
  {
   "cell_type": "code",
   "execution_count": 10,
   "metadata": {},
   "outputs": [],
   "source": [
    "df= pd.read_pickle('cleaned.pkl')"
   ]
  },
  {
   "cell_type": "code",
   "execution_count": 11,
   "metadata": {},
   "outputs": [
    {
     "data": {
      "text/html": [
       "<div>\n",
       "<style scoped>\n",
       "    .dataframe tbody tr th:only-of-type {\n",
       "        vertical-align: middle;\n",
       "    }\n",
       "\n",
       "    .dataframe tbody tr th {\n",
       "        vertical-align: top;\n",
       "    }\n",
       "\n",
       "    .dataframe thead th {\n",
       "        text-align: right;\n",
       "    }\n",
       "</style>\n",
       "<table border=\"1\" class=\"dataframe\">\n",
       "  <thead>\n",
       "    <tr style=\"text-align: right;\">\n",
       "      <th></th>\n",
       "      <th>text</th>\n",
       "      <th>label</th>\n",
       "      <th>cat</th>\n",
       "      <th>text_clean</th>\n",
       "    </tr>\n",
       "    <tr>\n",
       "      <th>id</th>\n",
       "      <th></th>\n",
       "      <th></th>\n",
       "      <th></th>\n",
       "      <th></th>\n",
       "    </tr>\n",
       "  </thead>\n",
       "  <tbody>\n",
       "    <tr>\n",
       "      <th>727600136</th>\n",
       "      <td>Et tu, Rhody?  A recent editorial in the Provi...</td>\n",
       "      <td>non-propaganda</td>\n",
       "      <td>0</td>\n",
       "      <td>rhody recent editorial providence journal cata...</td>\n",
       "    </tr>\n",
       "    <tr>\n",
       "      <th>731714618</th>\n",
       "      <td>A recent post in The Farmington Mirror — our t...</td>\n",
       "      <td>non-propaganda</td>\n",
       "      <td>0</td>\n",
       "      <td>recent post farmington mirror town version oni...</td>\n",
       "    </tr>\n",
       "    <tr>\n",
       "      <th>731714635</th>\n",
       "      <td>President Donald Trump, as he often does while...</td>\n",
       "      <td>non-propaganda</td>\n",
       "      <td>0</td>\n",
       "      <td>president donald trump respond natural disaste...</td>\n",
       "    </tr>\n",
       "  </tbody>\n",
       "</table>\n",
       "</div>"
      ],
      "text/plain": [
       "                                                        text           label  \\\n",
       "id                                                                             \n",
       "727600136  Et tu, Rhody?  A recent editorial in the Provi...  non-propaganda   \n",
       "731714618  A recent post in The Farmington Mirror — our t...  non-propaganda   \n",
       "731714635  President Donald Trump, as he often does while...  non-propaganda   \n",
       "\n",
       "           cat                                         text_clean  \n",
       "id                                                                 \n",
       "727600136    0  rhody recent editorial providence journal cata...  \n",
       "731714618    0  recent post farmington mirror town version oni...  \n",
       "731714635    0  president donald trump respond natural disaste...  "
      ]
     },
     "execution_count": 11,
     "metadata": {},
     "output_type": "execute_result"
    }
   ],
   "source": [
    "df[:3]"
   ]
  },
  {
   "cell_type": "code",
   "execution_count": 12,
   "metadata": {},
   "outputs": [
    {
     "name": "stdout",
     "output_type": "stream",
     "text": [
      "Total number of words: 172312\n"
     ]
    },
    {
     "data": {
      "image/png": "[encoded data removed]",
      "text/plain": [
       "<Figure size 576x360 with 1 Axes>"
      ]
     },
     "metadata": {
      "needs_background": "light"
     },
     "output_type": "display_data"
    }
   ],
   "source": [
    "# Visualize words count distribution\n",
    "\n",
    "n_word_cleaned= plot_n_len(df['text_clean'])"
   ]
  },
  {
   "cell_type": "code",
   "execution_count": 13,
   "metadata": {},
   "outputs": [
    {
     "name": "stdout",
     "output_type": "stream",
     "text": [
      "Uncleaned-cleaned text n of words difference -69.0 %\n"
     ]
    }
   ],
   "source": [
    "print('Uncleaned-cleaned text n of words difference', \n",
    "      round(((n_word_cleaned - n_words1) / n_words1), 2) *100, '%')"
   ]
  },
  {
   "cell_type": "code",
   "execution_count": 14,
   "metadata": {},
   "outputs": [
    {
     "data": {
      "text/html": [
       "<div>\n",
       "<style scoped>\n",
       "    .dataframe tbody tr th:only-of-type {\n",
       "        vertical-align: middle;\n",
       "    }\n",
       "\n",
       "    .dataframe tbody tr th {\n",
       "        vertical-align: top;\n",
       "    }\n",
       "\n",
       "    .dataframe thead th {\n",
       "        text-align: right;\n",
       "    }\n",
       "</style>\n",
       "<table border=\"1\" class=\"dataframe\">\n",
       "  <thead>\n",
       "    <tr style=\"text-align: right;\">\n",
       "      <th></th>\n",
       "      <th>text</th>\n",
       "      <th>label</th>\n",
       "      <th>cat</th>\n",
       "      <th>text_clean</th>\n",
       "    </tr>\n",
       "    <tr>\n",
       "      <th>id</th>\n",
       "      <th></th>\n",
       "      <th></th>\n",
       "      <th></th>\n",
       "      <th></th>\n",
       "    </tr>\n",
       "  </thead>\n",
       "  <tbody>\n",
       "    <tr>\n",
       "      <th>753990045</th>\n",
       "      <td>An alligator seen in Avondale, La., on April 2...</td>\n",
       "      <td>non-propaganda</td>\n",
       "      <td>0</td>\n",
       "      <td>alligator avondale louisiana april tyler kaufm...</td>\n",
       "    </tr>\n",
       "    <tr>\n",
       "      <th>755575725</th>\n",
       "      <td>Secretary of State Mike Pompeo says that North...</td>\n",
       "      <td>non-propaganda</td>\n",
       "      <td>0</td>\n",
       "      <td>secretary state mike pompeo north korea receiv...</td>\n",
       "    </tr>\n",
       "    <tr>\n",
       "      <th>755323202</th>\n",
       "      <td>LIMA: Vice President M Venkaiah Naidu has held...</td>\n",
       "      <td>non-propaganda</td>\n",
       "      <td>0</td>\n",
       "      <td>lima vice president venkaiah naidu hold extens...</td>\n",
       "    </tr>\n",
       "    <tr>\n",
       "      <th>729567741</th>\n",
       "      <td>Rob Porter with White House press secretary Sa...</td>\n",
       "      <td>non-propaganda</td>\n",
       "      <td>0</td>\n",
       "      <td>rob porter white house press secretary sarah h...</td>\n",
       "    </tr>\n",
       "    <tr>\n",
       "      <th>755044379</th>\n",
       "      <td>MOSCOW (Sputnik) - The Russian Defense Ministr...</td>\n",
       "      <td>non-propaganda</td>\n",
       "      <td>0</td>\n",
       "      <td>moscow sputnik russian defense ministry seismi...</td>\n",
       "    </tr>\n",
       "  </tbody>\n",
       "</table>\n",
       "</div>"
      ],
      "text/plain": [
       "                                                        text           label  \\\n",
       "id                                                                             \n",
       "753990045  An alligator seen in Avondale, La., on April 2...  non-propaganda   \n",
       "755575725  Secretary of State Mike Pompeo says that North...  non-propaganda   \n",
       "755323202  LIMA: Vice President M Venkaiah Naidu has held...  non-propaganda   \n",
       "729567741  Rob Porter with White House press secretary Sa...  non-propaganda   \n",
       "755044379  MOSCOW (Sputnik) - The Russian Defense Ministr...  non-propaganda   \n",
       "\n",
       "           cat                                         text_clean  \n",
       "id                                                                 \n",
       "753990045    0  alligator avondale louisiana april tyler kaufm...  \n",
       "755575725    0  secretary state mike pompeo north korea receiv...  \n",
       "755323202    0  lima vice president venkaiah naidu hold extens...  \n",
       "729567741    0  rob porter white house press secretary sarah h...  \n",
       "755044379    0  moscow sputnik russian defense ministry seismi...  "
      ]
     },
     "execution_count": 14,
     "metadata": {},
     "output_type": "execute_result"
    }
   ],
   "source": [
    "# shuffle so not 1 and 0 are mixed\n",
    "df= shuffle(df)\n",
    "df[:5]"
   ]
  },
  {
   "cell_type": "code",
   "execution_count": 15,
   "metadata": {},
   "outputs": [],
   "source": [
    "from sklearn.model_selection import train_test_split\n",
    "# splitting the data in test and train\n",
    "X_train, X_test, y_train, y_test= train_test_split(df['text_clean'], df['cat'],\n",
    "                                                   test_size= 0.25, random_state= 1234)"
   ]
  },
  {
   "cell_type": "code",
   "execution_count": 101,
   "metadata": {},
   "outputs": [],
   "source": [
    "X_vtrain= tvec.fit_transform(X_train)\n",
    "X_vtest= tvec.transform(X_test)"
   ]
  },
  {
   "cell_type": "markdown",
   "metadata": {},
   "source": [
    "## Data Exploration using Logistic Regression"
   ]
  },
  {
   "cell_type": "markdown",
   "metadata": {},
   "source": [
    "Selecting the best "
   ]
  },
  {
   "cell_type": "code",
   "execution_count": 16,
   "metadata": {},
   "outputs": [],
   "source": [
    "max_features= int(1e6)"
   ]
  },
  {
   "cell_type": "code",
   "execution_count": 17,
   "metadata": {},
   "outputs": [],
   "source": [
    "tvec= TfidfVectorizer(min_df=5, max_df= 0.9, lowercase= False, max_features= max_features)\n",
    "lr=  LogisticRegression(class_weight= 'balanced', solver= 'lbfgs')"
   ]
  },
  {
   "cell_type": "code",
   "execution_count": 111,
   "metadata": {},
   "outputs": [],
   "source": [
    "lr_param= dict(tvec__ngram_range= [(1,1), (1,2), (1,3)])"
   ]
  },
  {
   "cell_type": "code",
   "execution_count": 112,
   "metadata": {},
   "outputs": [],
   "source": [
    "lr_clf= Pipeline([('tvec', tvec), ('clf', lr)])"
   ]
  },
  {
   "cell_type": "code",
   "execution_count": 113,
   "metadata": {},
   "outputs": [],
   "source": [
    "from sklearn.model_selection import RandomizedSearchCV, GridSearchCV\n",
    "lr_random= GridSearchCV(lr_clf, lr_param, scoring='f1', n_jobs = -1, cv= 3)"
   ]
  },
  {
   "cell_type": "code",
   "execution_count": 114,
   "metadata": {
    "collapsed": true
   },
   "outputs": [
    {
     "data": {
      "text/plain": [
       "GridSearchCV(cv=3, error_score='raise-deprecating',\n",
       "       estimator=Pipeline(memory=None,\n",
       "     steps=[('tvec', TfidfVectorizer(analyzer='word', binary=False, decode_error='strict',\n",
       "        dtype=<class 'numpy.float64'>, encoding='utf-8', input='content',\n",
       "        lowercase=False, max_df=0.9, max_features=1000000, min_df=5,\n",
       "        ngram_range=(1, 3), norm='l2', preprocessor=None, smooth_idf=Tr...enalty='l2', random_state=None,\n",
       "          solver='lbfgs', tol=0.0001, verbose=0, warm_start=False))]),\n",
       "       fit_params=None, iid='warn', n_jobs=-1,\n",
       "       param_grid={'tvec__ngram_range': [(1, 1), (1, 2), (1, 3)]},\n",
       "       pre_dispatch='2*n_jobs', refit=True, return_train_score='warn',\n",
       "       scoring='f1', verbose=0)"
      ]
     },
     "execution_count": 114,
     "metadata": {},
     "output_type": "execute_result"
    }
   ],
   "source": [
    "lr_random.fit(X_train, y_train)"
   ]
  },
  {
   "cell_type": "code",
   "execution_count": 115,
   "metadata": {},
   "outputs": [
    {
     "name": "stdout",
     "output_type": "stream",
     "text": [
      "Best score: 0.781 with {'tvec__ngram_range': (1, 3)}\n"
     ]
    }
   ],
   "source": [
    "print('Best score:', round(lr_random.best_score_,3), 'with', lr_random.best_params_)"
   ]
  },
  {
   "cell_type": "markdown",
   "metadata": {},
   "source": [
    "## test different calssifiers"
   ]
  },
  {
   "cell_type": "code",
   "execution_count": 100,
   "metadata": {},
   "outputs": [],
   "source": [
    "from sklearn.tree import DecisionTreeClassifier\n",
    "from sklearn.ensemble import RandomForestClassifier, AdaBoostClassifier, GradientBoostingClassifier\n",
    "from sklearn.neural_network import MLPClassifier\n",
    "from sklearn.neighbors import KNeighborsClassifier\n",
    "from sklearn.feature_selection import SelectKBest, chi2"
   ]
  },
  {
   "cell_type": "code",
   "execution_count": 109,
   "metadata": {},
   "outputs": [
    {
     "name": "stdout",
     "output_type": "stream",
     "text": [
      "Fitting LogisticRegression classifier...\n"
     ]
    },
    {
     "name": "stderr",
     "output_type": "stream",
     "text": [
      "C:\\Users\\IBM_ADMIN\\Anaconda3\\lib\\site-packages\\sklearn\\linear_model\\logistic.py:433: FutureWarning: Default solver will be changed to 'lbfgs' in 0.22. Specify a solver to silence this warning.\n",
      "  FutureWarning)\n"
     ]
    },
    {
     "name": "stdout",
     "output_type": "stream",
     "text": [
      "Predicting...\n",
      "Fitting DecisionTree classifier...\n",
      "Predicting...\n",
      "Fitting RandomForest classifier...\n"
     ]
    },
    {
     "name": "stderr",
     "output_type": "stream",
     "text": [
      "C:\\Users\\IBM_ADMIN\\Anaconda3\\lib\\site-packages\\sklearn\\ensemble\\forest.py:246: FutureWarning: The default value of n_estimators will change from 10 in version 0.20 to 100 in 0.22.\n",
      "  \"10 in version 0.20 to 100 in 0.22.\", FutureWarning)\n"
     ]
    },
    {
     "name": "stdout",
     "output_type": "stream",
     "text": [
      "Predicting...\n",
      "Fitting Kneighbors classifier...\n",
      "Predicting...\n",
      "Fitting MLP classifier...\n"
     ]
    },
    {
     "name": "stderr",
     "output_type": "stream",
     "text": [
      "C:\\Users\\IBM_ADMIN\\Anaconda3\\lib\\site-packages\\sklearn\\neural_network\\multilayer_perceptron.py:562: ConvergenceWarning: Stochastic Optimizer: Maximum iterations (200) reached and the optimization hasn't converged yet.\n",
      "  % self.max_iter, ConvergenceWarning)\n"
     ]
    },
    {
     "name": "stdout",
     "output_type": "stream",
     "text": [
      "Predicting...\n",
      "Fitting AdaBoost classifier...\n",
      "Predicting...\n",
      "Fitting GradientBoosting classifier...\n",
      "Predicting...\n"
     ]
    }
   ],
   "source": [
    "classifiers = [\n",
    "    ('LogisticRegression', LogisticRegression()),\n",
    "    ('DecisionTree', DecisionTreeClassifier()),\n",
    "    ('RandomForest', RandomForestClassifier()),\n",
    "    ('Kneighbors', KNeighborsClassifier(2)),\n",
    "    ('MLP', MLPClassifier()),\n",
    "    ('AdaBoost', AdaBoostClassifier()),\n",
    "    ('GradientBoosting', GradientBoostingClassifier())]\n",
    "results=[]\n",
    "\n",
    "for c in classifiers: \n",
    "    clf= Pipeline([('sel', SelectKBest(chi2, k=500)),\n",
    "                   ('clf', c[1])])\n",
    "    print(f'Fitting {c[0]} classifier...')\n",
    "    clf.fit(X_vtrain, y_train)\n",
    "    print('Predicting...')\n",
    "    y_pred= clf.predict(X_vtest)\n",
    "    results.append((c[0], f1_score(y_test, y_pred), y_pred))"
   ]
  },
  {
   "cell_type": "code",
   "execution_count": 116,
   "metadata": {},
   "outputs": [
    {
     "data": {
      "text/plain": [
       "Text(0.5, 0, 'f1 score')"
      ]
     },
     "execution_count": 116,
     "metadata": {},
     "output_type": "execute_result"
    },
    {
     "data": {
      "image/png": "[encoded data removed]",
      "text/plain": [
       "<Figure size 576x360 with 1 Axes>"
      ]
     },
     "metadata": {
      "needs_background": "light"
     },
     "output_type": "display_data"
    }
   ],
   "source": [
    "results= pd.DataFrame(results, columns=['classifier', 'f1_score', 'results'])\n",
    "results[['classifier', 'f1_score']].set_index('classifier').plot(kind='barh',\n",
    "                                                                 color= 'rgbkymc', legend=None, figsize=(8,5))\n",
    "plt.title('Classifiers f1 score')\n",
    "plt.xlabel('f1 score')"
   ]
  },
  {
   "cell_type": "code",
   "execution_count": 117,
   "metadata": {},
   "outputs": [
    {
     "data": {
      "text/html": [
       "<div>\n",
       "<style scoped>\n",
       "    .dataframe tbody tr th:only-of-type {\n",
       "        vertical-align: middle;\n",
       "    }\n",
       "\n",
       "    .dataframe tbody tr th {\n",
       "        vertical-align: top;\n",
       "    }\n",
       "\n",
       "    .dataframe thead th {\n",
       "        text-align: right;\n",
       "    }\n",
       "</style>\n",
       "<table border=\"1\" class=\"dataframe\">\n",
       "  <thead>\n",
       "    <tr style=\"text-align: right;\">\n",
       "      <th></th>\n",
       "      <th>classifier</th>\n",
       "      <th>f1_score</th>\n",
       "    </tr>\n",
       "  </thead>\n",
       "  <tbody>\n",
       "    <tr>\n",
       "      <th>0</th>\n",
       "      <td>LogisticRegression</td>\n",
       "      <td>0.532656</td>\n",
       "    </tr>\n",
       "    <tr>\n",
       "      <th>1</th>\n",
       "      <td>DecisionTree</td>\n",
       "      <td>0.659386</td>\n",
       "    </tr>\n",
       "    <tr>\n",
       "      <th>2</th>\n",
       "      <td>RandomForest</td>\n",
       "      <td>0.701643</td>\n",
       "    </tr>\n",
       "    <tr>\n",
       "      <th>3</th>\n",
       "      <td>Kneighbors</td>\n",
       "      <td>0.477658</td>\n",
       "    </tr>\n",
       "    <tr>\n",
       "      <th>4</th>\n",
       "      <td>MLP</td>\n",
       "      <td>0.785026</td>\n",
       "    </tr>\n",
       "    <tr>\n",
       "      <th>5</th>\n",
       "      <td>AdaBoost</td>\n",
       "      <td>0.703990</td>\n",
       "    </tr>\n",
       "    <tr>\n",
       "      <th>6</th>\n",
       "      <td>GradientBoosting</td>\n",
       "      <td>0.695369</td>\n",
       "    </tr>\n",
       "  </tbody>\n",
       "</table>\n",
       "</div>"
      ],
      "text/plain": [
       "           classifier  f1_score\n",
       "0  LogisticRegression  0.532656\n",
       "1        DecisionTree  0.659386\n",
       "2        RandomForest  0.701643\n",
       "3          Kneighbors  0.477658\n",
       "4                 MLP  0.785026\n",
       "5            AdaBoost  0.703990\n",
       "6    GradientBoosting  0.695369"
      ]
     },
     "execution_count": 117,
     "metadata": {},
     "output_type": "execute_result"
    }
   ],
   "source": [
    "results[['classifier', 'f1_score']]"
   ]
  },
  {
   "cell_type": "markdown",
   "metadata": {},
   "source": [
    "## Logistic regression tuning"
   ]
  },
  {
   "cell_type": "code",
   "execution_count": 83,
   "metadata": {},
   "outputs": [],
   "source": [
    "tvec= TfidfVectorizer(max_df= 0.9, min_df=5, lowercase= False, ngram_range= (1,3), max_features= max_features)\n",
    "lr=  LogisticRegression(solver= 'lbfgs', class_weight= 'balanced')"
   ]
  },
  {
   "cell_type": "code",
   "execution_count": 84,
   "metadata": {},
   "outputs": [],
   "source": [
    "lr_param_grid = dict(\n",
    "    C= [10, 100, 1e3, 1e4],\n",
    "    max_iter= [100, 200, 300]\n",
    "    )"
   ]
  },
  {
   "cell_type": "code",
   "execution_count": 87,
   "metadata": {},
   "outputs": [],
   "source": [
    "lr_random_search= RandomizedSearchCV(lr, param_distributions= lr_param_grid,\n",
    "                                    scoring= 'f1', n_iter=8, n_jobs=-1, cv=3)"
   ]
  },
  {
   "cell_type": "code",
   "execution_count": 88,
   "metadata": {},
   "outputs": [
    {
     "name": "stderr",
     "output_type": "stream",
     "text": [
      "C:\\Users\\IBM_ADMIN\\Anaconda3\\lib\\site-packages\\sklearn\\linear_model\\logistic.py:758: ConvergenceWarning: lbfgs failed to converge. Increase the number of iterations.\n",
      "  \"of iterations.\", ConvergenceWarning)\n"
     ]
    },
    {
     "data": {
      "text/plain": [
       "RandomizedSearchCV(cv=3, error_score='raise-deprecating',\n",
       "          estimator=LogisticRegression(C=1.0, class_weight='balanced', dual=False,\n",
       "          fit_intercept=True, intercept_scaling=1, max_iter=100,\n",
       "          multi_class='warn', n_jobs=None, penalty='l2', random_state=None,\n",
       "          solver='lbfgs', tol=0.0001, verbose=0, warm_start=False),\n",
       "          fit_params=None, iid='warn', n_iter=8, n_jobs=-1,\n",
       "          param_distributions={'C': [10, 100, 1000.0, 10000.0], 'max_iter': [100, 200, 300]},\n",
       "          pre_dispatch='2*n_jobs', random_state=None, refit=True,\n",
       "          return_train_score='warn', scoring='f1', verbose=0)"
      ]
     },
     "execution_count": 88,
     "metadata": {},
     "output_type": "execute_result"
    }
   ],
   "source": [
    "lr_random_search.fit(X_vtrain, y_train)"
   ]
  },
  {
   "cell_type": "code",
   "execution_count": 89,
   "metadata": {},
   "outputs": [],
   "source": [
    "y_pred= lr_random_search.predict(X_vtest)"
   ]
  },
  {
   "cell_type": "code",
   "execution_count": 90,
   "metadata": {},
   "outputs": [
    {
     "data": {
      "text/plain": [
       "{'max_iter': 100, 'C': 1000.0}"
      ]
     },
     "execution_count": 90,
     "metadata": {},
     "output_type": "execute_result"
    }
   ],
   "source": [
    "lr_random_search.best_params_"
   ]
  },
  {
   "cell_type": "code",
   "execution_count": 91,
   "metadata": {},
   "outputs": [
    {
     "data": {
      "text/plain": [
       "0.8371089536138079"
      ]
     },
     "execution_count": 91,
     "metadata": {},
     "output_type": "execute_result"
    }
   ],
   "source": [
    "f1_score(y_test, y_pred)"
   ]
  },
  {
   "cell_type": "markdown",
   "metadata": {},
   "source": [
    "# MLP tuning"
   ]
  },
  {
   "cell_type": "code",
   "execution_count": 127,
   "metadata": {},
   "outputs": [],
   "source": [
    "mlp_k_f1score= {}\n",
    "for k in np.arange(50, 1000, 100):\n",
    "    mlp_pip= Pipeline([('sel', SelectKBest(chi2, k= k)), \n",
    "                       ('clf', MLPClassifier(solver= 'lbfgs'))])\n",
    "    mlp_pip.fit(X_vtrain, y_train)\n",
    "    y_pred= mlp_pip.predict(X_vtest)\n",
    "    mlp_k_f1score[k]= f1_score(y_test, y_pred)"
   ]
  },
  {
   "cell_type": "code",
   "execution_count": 148,
   "metadata": {},
   "outputs": [
    {
     "data": {
      "text/plain": [
       "Text(0.5, 0, 'n feature')"
      ]
     },
     "execution_count": 148,
     "metadata": {},
     "output_type": "execute_result"
    },
    {
     "data": {
      "image/png": "[encoded data removed]",
      "text/plain": [
       "<Figure size 432x288 with 1 Axes>"
      ]
     },
     "metadata": {
      "needs_background": "light"
     },
     "output_type": "display_data"
    }
   ],
   "source": [
    "pd.Series(mlp_k_f1score).plot()\n",
    "plt.title('F1 score vs N feature')\n",
    "plt.ylabel('F1 score')\n",
    "plt.xlabel('n feature')"
   ]
  },
  {
   "cell_type": "code",
   "execution_count": 130,
   "metadata": {},
   "outputs": [],
   "source": [
    "mpl_param_grid= dict(clf__activation= ['tanh', 'relu', 'logistic'],\n",
    "    clf__alpha=(0.0001, 0.001, 0.01, 0.05),\n",
    "    clf__learning_rate= ['constant','adaptive'],\n",
    "    clf__hidden_layer_sizes= [(50,50,50), (50,100,50), (100,)])"
   ]
  },
  {
   "cell_type": "code",
   "execution_count": 134,
   "metadata": {},
   "outputs": [],
   "source": [
    "mlp_clf= Pipeline([('sel', SelectKBest(chi2, k= 800)),\n",
    "                            ('clf', MLPClassifier(solver= 'lbfgs'))])"
   ]
  },
  {
   "cell_type": "code",
   "execution_count": 136,
   "metadata": {},
   "outputs": [],
   "source": [
    "mlp_random_search= RandomizedSearchCV(mlp_clf, param_distributions= mpl_param_grid,\n",
    "                                      scoring= 'f1', n_iter=10, n_jobs=-1, cv=3)"
   ]
  },
  {
   "cell_type": "code",
   "execution_count": 139,
   "metadata": {},
   "outputs": [
    {
     "data": {
      "text/plain": [
       "RandomizedSearchCV(cv=3, error_score='raise-deprecating',\n",
       "          estimator=Pipeline(memory=None,\n",
       "     steps=[('sel', SelectKBest(k=800, score_func=<function chi2 at 0x00000000092E9510>)), ('clf', MLPClassifier(activation='relu', alpha=0.0001, batch_size='auto', beta_1=0.9,\n",
       "       beta_2=0.999, early_stopping=False, epsilon=1e-08,\n",
       "       hidden_layer_sizes=(100,), learning_rate='constant',\n",
       "       lea...True, solver='lbfgs', tol=0.0001,\n",
       "       validation_fraction=0.1, verbose=False, warm_start=False))]),\n",
       "          fit_params=None, iid='warn', n_iter=10, n_jobs=-1,\n",
       "          param_distributions={'clf__activation': ['tanh', 'relu', 'logistic'], 'clf__alpha': (0.0001, 0.001, 0.01, 0.05), 'clf__learning_rate': ['constant', 'adaptive'], 'clf__hidden_layer_sizes': [(50, 50, 50), (50, 100, 50), (100,)]},\n",
       "          pre_dispatch='2*n_jobs', random_state=None, refit=True,\n",
       "          return_train_score='warn', scoring='f1', verbose=0)"
      ]
     },
     "execution_count": 139,
     "metadata": {},
     "output_type": "execute_result"
    }
   ],
   "source": [
    "mlp_random_search.fit(X_vtrain, y_train)"
   ]
  },
  {
   "cell_type": "code",
   "execution_count": 140,
   "metadata": {},
   "outputs": [
    {
     "data": {
      "text/plain": [
       "array([0, 0, 0, ..., 1, 0, 1], dtype=int64)"
      ]
     },
     "execution_count": 140,
     "metadata": {},
     "output_type": "execute_result"
    }
   ],
   "source": [
    "y_pred= mlp_random_search.predict(X_vtest)"
   ]
  },
  {
   "cell_type": "code",
   "execution_count": 141,
   "metadata": {},
   "outputs": [
    {
     "data": {
      "text/plain": [
       "0.7950169875424687"
      ]
     },
     "execution_count": 141,
     "metadata": {},
     "output_type": "execute_result"
    }
   ],
   "source": [
    "f1_score(y_test, y_pred)"
   ]
  },
  {
   "cell_type": "markdown",
   "metadata": {},
   "source": [
    "# Test Set"
   ]
  },
  {
   "cell_type": "markdown",
   "metadata": {},
   "source": [
    "Predicion on the test set using Logistic Regression"
   ]
  },
  {
   "cell_type": "code",
   "execution_count": 142,
   "metadata": {},
   "outputs": [
    {
     "data": {
      "text/plain": [
       "\"\\ndf_dev= pd.read_csv('task1.test.csv', usecols=[0,1], header= None)\\ndf_dev.columns = ['text', 'id']\\ndf_dev.set_index('id', inplace= True)\\ndf_dev['text_clean']= df_dev['text'].apply(text_cleaner)\\ndf_dev.to_pickle('cleaned_df.pkl')\\n\""
      ]
     },
     "execution_count": 142,
     "metadata": {},
     "output_type": "execute_result"
    }
   ],
   "source": [
    "# this code has been yoused to produced the clined pkl, to de-comment just if needed\n",
    "\n",
    "'''\n",
    "df_dev= pd.read_csv('task1.test.csv', usecols=[0,1], header= None)\n",
    "df_dev.columns = ['text', 'id']\n",
    "df_dev.set_index('id', inplace= True)\n",
    "df_dev['text_clean']= df_dev['text'].apply(text_cleaner)\n",
    "df_dev.to_pickle('cleaned_df.pkl')\n",
    "'''\n"
   ]
  },
  {
   "cell_type": "code",
   "execution_count": 143,
   "metadata": {},
   "outputs": [],
   "source": [
    "df_dev= pd.read_pickle('cleaned_df.pkl')\n",
    "df_dev.set_index('id', inplace= True)"
   ]
  },
  {
   "cell_type": "code",
   "execution_count": 149,
   "metadata": {},
   "outputs": [],
   "source": [
    "tvec= TfidfVectorizer(min_df=5, max_df= 0.9, lowercase= False, max_features= max_features, ngram_range= (1,3))\n",
    "lr=  LogisticRegression(class_weight= 'balanced', solver= 'lbfgs', C= 1e3)"
   ]
  },
  {
   "cell_type": "code",
   "execution_count": null,
   "metadata": {},
   "outputs": [],
   "source": [
    "lr_clf.fit(df['text_clean'], df['cat'])\n",
    "y_pred= lr_clf.predict(df_dev['text_clean'])"
   ]
  },
  {
   "cell_type": "code",
   "execution_count": null,
   "metadata": {},
   "outputs": [],
   "source": [
    "MAP_R= {1: 'propaganda', 0: 'non-propaganda'}\n",
    "\n",
    "predictions= pd.Series(y_pred).map(MAP_R).values\n",
    "\n",
    "with open(\"finale-predictions.txt\", \"w\") as fout:\n",
    "    for article_id, prediction in zip(df_dev.index, predictions):\n",
    "        fout.write(\"%s\\t%s\\n\" % (article_id, prediction))"
   ]
  }
 ],
 "metadata": {
  "kernelspec": {
   "display_name": "Python 3",
   "language": "python",
   "name": "python3"
  },
  "language_info": {
   "codemirror_mode": {
    "name": "ipython",
    "version": 3
   },
   "file_extension": ".py",
   "mimetype": "text/x-python",
   "name": "python",
   "nbconvert_exporter": "python",
   "pygments_lexer": "ipython3",
   "version": "3.6.8"
  }
 },
 "nbformat": 4,
 "nbformat_minor": 2
}

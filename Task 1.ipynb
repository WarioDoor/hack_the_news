{
 "cells": [
  {
   "cell_type": "code",
   "execution_count": 1,
   "metadata": {},
   "outputs": [],
   "source": [
    "import pandas as pd\n",
    "import numpy as np\n",
    "import matplotlib.pyplot as plt\n",
    "from sklearn.utils import shuffle\n",
    "import seaborn as sns\n",
    "plt.style.use('ggplot')\n",
    "%matplotlib inline"
   ]
  },
  {
   "cell_type": "code",
   "execution_count": 2,
   "metadata": {},
   "outputs": [],
   "source": [
    "# read the data from txt\n",
    "df= pd.read_table('datasets-v3_1/task-1/task1.train.txt', header= None)"
   ]
  },
  {
   "cell_type": "code",
   "execution_count": 3,
   "metadata": {},
   "outputs": [],
   "source": [
    "df.columns = ['text', 'id', 'label']\n",
    "df.set_index('id', inplace= True)"
   ]
  },
  {
   "cell_type": "code",
   "execution_count": 4,
   "metadata": {},
   "outputs": [
    {
     "data": {
      "text/html": [
       "<div>\n",
       "<style scoped>\n",
       "    .dataframe tbody tr th:only-of-type {\n",
       "        vertical-align: middle;\n",
       "    }\n",
       "\n",
       "    .dataframe tbody tr th {\n",
       "        vertical-align: top;\n",
       "    }\n",
       "\n",
       "    .dataframe thead th {\n",
       "        text-align: right;\n",
       "    }\n",
       "</style>\n",
       "<table border=\"1\" class=\"dataframe\">\n",
       "  <thead>\n",
       "    <tr style=\"text-align: right;\">\n",
       "      <th></th>\n",
       "      <th>text</th>\n",
       "      <th>label</th>\n",
       "    </tr>\n",
       "    <tr>\n",
       "      <th>id</th>\n",
       "      <th></th>\n",
       "      <th></th>\n",
       "    </tr>\n",
       "  </thead>\n",
       "  <tbody>\n",
       "    <tr>\n",
       "      <th>727600136</th>\n",
       "      <td>Et tu, Rhody?  A recent editorial in the Provi...</td>\n",
       "      <td>non-propaganda</td>\n",
       "    </tr>\n",
       "    <tr>\n",
       "      <th>731714618</th>\n",
       "      <td>A recent post in The Farmington Mirror — our t...</td>\n",
       "      <td>non-propaganda</td>\n",
       "    </tr>\n",
       "    <tr>\n",
       "      <th>731714635</th>\n",
       "      <td>President Donald Trump, as he often does while...</td>\n",
       "      <td>non-propaganda</td>\n",
       "    </tr>\n",
       "  </tbody>\n",
       "</table>\n",
       "</div>"
      ],
      "text/plain": [
       "                                                        text           label\n",
       "id                                                                          \n",
       "727600136  Et tu, Rhody?  A recent editorial in the Provi...  non-propaganda\n",
       "731714618  A recent post in The Farmington Mirror — our t...  non-propaganda\n",
       "731714635  President Donald Trump, as he often does while...  non-propaganda"
      ]
     },
     "execution_count": 4,
     "metadata": {},
     "output_type": "execute_result"
    }
   ],
   "source": [
    "df[:3]"
   ]
  },
  {
   "cell_type": "code",
   "execution_count": 5,
   "metadata": {},
   "outputs": [
    {
     "data": {
      "text/plain": [
       "<matplotlib.axes._subplots.AxesSubplot at 0xaf794e0>"
      ]
     },
     "execution_count": 5,
     "metadata": {},
     "output_type": "execute_result"
    },
    {
     "data": {
      "image/png": "[encoded data removed]",
      "text/plain": [
       "<Figure size 432x288 with 1 Axes>"
      ]
     },
     "metadata": {
      "needs_background": "light"
     },
     "output_type": "display_data"
    }
   ],
   "source": [
    "df['label'].value_counts().plot(kind='barh')"
   ]
  },
  {
   "cell_type": "code",
   "execution_count": 6,
   "metadata": {},
   "outputs": [],
   "source": [
    "df['label']= df['label'].map({'propaganda':1, 'non-propaganda':0})"
   ]
  },
  {
   "cell_type": "markdown",
   "metadata": {},
   "source": [
    "## Text Processing"
   ]
  },
  {
   "cell_type": "markdown",
   "metadata": {},
   "source": [
    "cleaning the data using spacy"
   ]
  },
  {
   "cell_type": "code",
   "execution_count": 11,
   "metadata": {},
   "outputs": [],
   "source": [
    "import string\n",
    "import re\n",
    "import spacy\n",
    "import pickle\n",
    "npl= spacy.load('en')"
   ]
  },
  {
   "cell_type": "code",
   "execution_count": 110,
   "metadata": {},
   "outputs": [],
   "source": [
    "# don't run this code! use the pickle\n",
    "def t_cleaner(text):\n",
    "    tokens = npl(text)\n",
    "    lemmas = []\n",
    "    for t in tokens:\n",
    "        if t.is_punct or t.is_space or t.like_num or t.like_url:\n",
    "            pass\n",
    "        else:\n",
    "            lemmas.append(t.lemma_.lower().strip() if t.lemma_ != \"-PRON-\" else t.lower_)\n",
    "    joined = ' '.join(lemmas)\n",
    "    corrected = re.sub(r'(.)\\1+', r'\\1\\1', joined)\n",
    "    return corrected"
   ]
  },
  {
   "cell_type": "code",
   "execution_count": 13,
   "metadata": {},
   "outputs": [
    {
     "name": "stdout",
     "output_type": "stream",
     "text": [
      "2.8 s ± 214 ms per loop (mean ± std. dev. of 7 runs, 1 loop each)\n"
     ]
    }
   ],
   "source": [
    "%timeit df['text'].iloc[:10].apply(t_tokenizer)"
   ]
  },
  {
   "cell_type": "code",
   "execution_count": 28,
   "metadata": {},
   "outputs": [
    {
     "name": "stdout",
     "output_type": "stream",
     "text": [
      "Total time 2.80h\n"
     ]
    }
   ],
   "source": [
    "print('Total time {0:.2f}h'.format((2.8 * df.shape[0]/10)/3600))"
   ]
  },
  {
   "cell_type": "code",
   "execution_count": 17,
   "metadata": {},
   "outputs": [],
   "source": [
    "df['text_clean']= df['text'].apply(t_cleaner)\n",
    "# dump to picle\n",
    "df.to_pickle('cleaned.pkl')"
   ]
  },
  {
   "cell_type": "markdown",
   "metadata": {},
   "source": [
    "## Text Analysis"
   ]
  },
  {
   "cell_type": "code",
   "execution_count": 7,
   "metadata": {},
   "outputs": [],
   "source": [
    "# start importing here\n",
    "df= pd.read_pickle('cleaned.pkl')"
   ]
  },
  {
   "cell_type": "code",
   "execution_count": 8,
   "metadata": {},
   "outputs": [
    {
     "data": {
      "text/plain": [
       "<matplotlib.axes._subplots.AxesSubplot at 0xb288b38>"
      ]
     },
     "execution_count": 8,
     "metadata": {},
     "output_type": "execute_result"
    },
    {
     "data": {
      "image/png": "[encoded data removed]",
      "text/plain": [
       "<Figure size 1440x360 with 1 Axes>"
      ]
     },
     "metadata": {
      "needs_background": "light"
     },
     "output_type": "display_data"
    }
   ],
   "source": [
    "# Visualize words count distribution\n",
    "\n",
    "df['text_len'] = df['text_clean'].apply(lambda words: len(words.split(\" \")))\n",
    "\n",
    "plt.figure(figsize=(20, 5))\n",
    "sns.boxplot(x= df['text_len'], orient= 'h')\n"
   ]
  },
  {
   "cell_type": "code",
   "execution_count": 18,
   "metadata": {},
   "outputs": [],
   "source": [
    "max_features=6000"
   ]
  },
  {
   "cell_type": "markdown",
   "metadata": {},
   "source": [
    "Comparing text and cleanded text for document 0"
   ]
  },
  {
   "cell_type": "code",
   "execution_count": 19,
   "metadata": {
    "scrolled": true
   },
   "outputs": [
    {
     "data": {
      "text/plain": [
       "'הכתבה החשובה של @Ofer_Hadad במלואה. אלימות ברוטלית נגד קטין בחסות סיור של שוברים שתיקה @btsIsrael. אל תתנו לזה לעבור בשקט >> pic.twitter.com/nTfrqGwgU4 — ישראל שלי | MyIsrael (@MyIsraelorgil) July 12, 2018  If you\\'ve ever encountered a peace activist, you know that they\\'re anything but peaceful. That\\'s especially the case with the crews that converge on Israel.  An observer who took part in a tour of the Breaking the Silence organization in Tel Rumeida in Hevron slapped a 10-year-old Jewish boy. In the documentation published in News 2, the man, a representative of the multinational group Temporary International Presence in Hebron (TIPH), appeared to be slapping a child who approached the group. The police arrested the activist on suspicion of assaulting a minor. He was released under restrictive conditions after being questioned  Breaking the Silence issued a predictably despicable statement. The Swiss ambassador offered another non-apology which appeared to blame it on the 10-year-old.  On Friday, the Swiss Ambassador to Israel, Jean-Daniel Ruch, penned a letter to the Hevron Jewish community apologizing for the incident. “You are certainly aware of the incident that took place in Hebron two days ago, whereby a Swiss member of the TIPH slapped a young boy.” During the apology, however, Ruch appeared to pin at least some of the blame on local Jews, accusing them of “some provocation” prior to the incident. “Though this was no doubt preceded by some provocation on the side of the settlers – the action of this TIPH member is totally unacceptable. It is expected from our TIPH members that they keep their nerves in any circumstance.”  \"No doubt\" .  That\\'s not a documented incident. It\\'s a presumption of hostility and naked bias. Of course our anti-Israel activist was provoked. But despite the 10-year-old\\'s provocations, we\\'re sorry anyway.'"
      ]
     },
     "execution_count": 19,
     "metadata": {},
     "output_type": "execute_result"
    }
   ],
   "source": [
    "df['text'].iloc[0]"
   ]
  },
  {
   "cell_type": "code",
   "execution_count": 20,
   "metadata": {
    "scrolled": true
   },
   "outputs": [
    {
     "data": {
      "text/plain": [
       "\"הכתבה החשובה של @ofer_hadad במלואה אלימות ברוטלית נגד קטין בחסות סיור של שוברים שתיקה @btsisrael אל תתנו לזה לעבור בשקט > > pic.twitter.com/ntfrqgwgu4 ישראל שלי | myisrael @myisraelorgil july if you have ever encounter a peace activist you know that they be anything but peaceful that be especially the case with the crew that converge on israel an observer who take part in a tour of the breaking the silence organization in tel rumeida in hevron slap a 10-year old jewish boy in the documentation publish in news the man a representative of the multinational group temporary international presence in hebron tiph appear to be slap a child who approach the group the police arrest the activist on suspicion of assault a minor he be release under restrictive condition after be question break the silence issue a predictably despicable statement the swiss ambassador offer another non apology which appear to blame it on the 10-year old on friday the swiss ambassador to israel jean daniel ruch pen a letter to the hevron jewish community apologize for the incident you be certainly aware of the incident that take place in hebron day ago whereby a swiss member of the tiph slap a young boy during the apology however ruch appear to pin at least some of the blame on local jews accuse them of some provocation prior to the incident though this be no doubt precede by some provocation on the side of the settler the action of this tiph member be totally unacceptable it be expect from our tiph member that they keep their nerve in any circumstance no doubt that be not a document incident it be a presumption of hostility and naked bias of course our anti israel activist be provoke but despite the 10-year old 's provocation we be sorry anyway\""
      ]
     },
     "execution_count": 20,
     "metadata": {},
     "output_type": "execute_result"
    }
   ],
   "source": [
    "df['text_clean'].iloc[0] #check why \\'s wasn't removed, try to clean it if rerun"
   ]
  },
  {
   "cell_type": "code",
   "execution_count": 21,
   "metadata": {},
   "outputs": [],
   "source": [
    "from sklearn.model_selection import train_test_split\n",
    "from sklearn.metrics import f1_score"
   ]
  },
  {
   "cell_type": "code",
   "execution_count": 22,
   "metadata": {},
   "outputs": [
    {
     "data": {
      "text/html": [
       "<div>\n",
       "<style scoped>\n",
       "    .dataframe tbody tr th:only-of-type {\n",
       "        vertical-align: middle;\n",
       "    }\n",
       "\n",
       "    .dataframe tbody tr th {\n",
       "        vertical-align: top;\n",
       "    }\n",
       "\n",
       "    .dataframe thead th {\n",
       "        text-align: right;\n",
       "    }\n",
       "</style>\n",
       "<table border=\"1\" class=\"dataframe\">\n",
       "  <thead>\n",
       "    <tr style=\"text-align: right;\">\n",
       "      <th></th>\n",
       "      <th>text</th>\n",
       "      <th>label</th>\n",
       "      <th>text_clean</th>\n",
       "      <th>text_len</th>\n",
       "    </tr>\n",
       "    <tr>\n",
       "      <th>id</th>\n",
       "      <th></th>\n",
       "      <th></th>\n",
       "      <th></th>\n",
       "      <th></th>\n",
       "    </tr>\n",
       "  </thead>\n",
       "  <tbody>\n",
       "    <tr>\n",
       "      <th>727354042</th>\n",
       "      <td>Timothy Piazza's death last year after attendi...</td>\n",
       "      <td>0</td>\n",
       "      <td>timothy piazza 's death last year after attend...</td>\n",
       "      <td>1040</td>\n",
       "    </tr>\n",
       "    <tr>\n",
       "      <th>727619364</th>\n",
       "      <td>DONALD Trump’s administration has made an emba...</td>\n",
       "      <td>0</td>\n",
       "      <td>donald trump ’s administration have make an em...</td>\n",
       "      <td>630</td>\n",
       "    </tr>\n",
       "    <tr>\n",
       "      <th>752616222</th>\n",
       "      <td>About 72% of students qualified in the enginee...</td>\n",
       "      <td>0</td>\n",
       "      <td>about of student qualify in the engineering ex...</td>\n",
       "      <td>352</td>\n",
       "    </tr>\n",
       "    <tr>\n",
       "      <th>730966425</th>\n",
       "      <td>THE value of leading cryptocurrencies soared o...</td>\n",
       "      <td>0</td>\n",
       "      <td>the value of lead cryptocurrencie soar on wedn...</td>\n",
       "      <td>578</td>\n",
       "    </tr>\n",
       "    <tr>\n",
       "      <th>755584009</th>\n",
       "      <td>For many years, Israel faced the danger of a n...</td>\n",
       "      <td>0</td>\n",
       "      <td>for many year israel face the danger of a nucl...</td>\n",
       "      <td>757</td>\n",
       "    </tr>\n",
       "  </tbody>\n",
       "</table>\n",
       "</div>"
      ],
      "text/plain": [
       "                                                        text  label  \\\n",
       "id                                                                    \n",
       "727354042  Timothy Piazza's death last year after attendi...      0   \n",
       "727619364  DONALD Trump’s administration has made an emba...      0   \n",
       "752616222  About 72% of students qualified in the enginee...      0   \n",
       "730966425  THE value of leading cryptocurrencies soared o...      0   \n",
       "755584009  For many years, Israel faced the danger of a n...      0   \n",
       "\n",
       "                                                  text_clean  text_len  \n",
       "id                                                                      \n",
       "727354042  timothy piazza 's death last year after attend...      1040  \n",
       "727619364  donald trump ’s administration have make an em...       630  \n",
       "752616222  about of student qualify in the engineering ex...       352  \n",
       "730966425  the value of lead cryptocurrencie soar on wedn...       578  \n",
       "755584009  for many year israel face the danger of a nucl...       757  "
      ]
     },
     "execution_count": 22,
     "metadata": {},
     "output_type": "execute_result"
    }
   ],
   "source": [
    "# shuffle so not 1 and 0 are mixed\n",
    "df= shuffle(df)\n",
    "df[:5]"
   ]
  },
  {
   "cell_type": "code",
   "execution_count": 23,
   "metadata": {},
   "outputs": [],
   "source": [
    "# splitting the data in test and train\n",
    "X_train, X_test, y_train, y_test= train_test_split(df['text_clean'], df['label'],\n",
    "                                                   test_size= 0.25, random_state= 1234)"
   ]
  },
  {
   "cell_type": "markdown",
   "metadata": {},
   "source": [
    "### test different calssifiers"
   ]
  },
  {
   "cell_type": "code",
   "execution_count": 26,
   "metadata": {},
   "outputs": [],
   "source": [
    "from sklearn.pipeline import Pipeline\n",
    "from sklearn.feature_extraction.text import CountVectorizer, TfidfTransformer, TfidfVectorizer\n",
    "from sklearn.neural_network import MLPClassifier # too long try to rerun\n",
    "from sklearn.tree import DecisionTreeClassifier\n",
    "from sklearn.ensemble import RandomForestClassifier, AdaBoostClassifier, GradientBoostingClassifier\n",
    "from sklearn.linear_model import LogisticRegression\n",
    "# from sklearn.svm import SVC, LinearSVC too long to compute\n",
    "from sklearn.pipeline import Pipeline\n",
    "from sklearn.neighbors import KNeighborsClassifier\n",
    "from sklearn.model_selection import RandomizedSearchCV\n",
    "from sklearn.feature_selection import SelectKBest, chi2"
   ]
  },
  {
   "cell_type": "code",
   "execution_count": 49,
   "metadata": {},
   "outputs": [
    {
     "name": "stdout",
     "output_type": "stream",
     "text": [
      "Fitting LogisticRegression classifier...\n"
     ]
    },
    {
     "name": "stderr",
     "output_type": "stream",
     "text": [
      "C:\\Users\\IBM_ADMIN\\Anaconda3\\lib\\site-packages\\sklearn\\linear_model\\logistic.py:433: FutureWarning: Default solver will be changed to 'lbfgs' in 0.22. Specify a solver to silence this warning.\n",
      "  FutureWarning)\n"
     ]
    },
    {
     "name": "stdout",
     "output_type": "stream",
     "text": [
      "Predicting...\n",
      "Fitting DecisionTree classifier...\n",
      "Predicting...\n",
      "Fitting RandomForest classifier...\n"
     ]
    },
    {
     "name": "stderr",
     "output_type": "stream",
     "text": [
      "C:\\Users\\IBM_ADMIN\\Anaconda3\\lib\\site-packages\\sklearn\\ensemble\\forest.py:246: FutureWarning: The default value of n_estimators will change from 10 in version 0.20 to 100 in 0.22.\n",
      "  \"10 in version 0.20 to 100 in 0.22.\", FutureWarning)\n"
     ]
    },
    {
     "name": "stdout",
     "output_type": "stream",
     "text": [
      "Predicting...\n",
      "Fitting Kneighbors classifier...\n",
      "Predicting...\n",
      "Fitting MPL classifier...\n",
      "Predicting...\n",
      "Fitting AdaBoost classifier...\n",
      "Predicting...\n",
      "Fitting GradientBoosting classifier...\n",
      "Predicting...\n"
     ]
    }
   ],
   "source": [
    "classifiers = [\n",
    "    ('LogisticRegression', LogisticRegression()),\n",
    "    ('DecisionTree', DecisionTreeClassifier()),\n",
    "    ('RandomForest', RandomForestClassifier()),\n",
    "    ('Kneighbors', KNeighborsClassifier(2)),\n",
    "    #('SVC', SVC(probability=True)),\n",
    "    ('MPL', MLPClassifier()),\n",
    "    ('AdaBoost', AdaBoostClassifier()),\n",
    "    ('GradientBoosting', GradientBoostingClassifier())]\n",
    "results=[]\n",
    "\n",
    "tf_vectorizer= TfidfVectorizer(max_features= max_features, stop_words= 'english')\n",
    "\n",
    "for c in classifiers: \n",
    "    clf= Pipeline([('tvect', tf_vectorizer),\n",
    "                   ('sel', SelectKBest(chi2, k=2000)),\n",
    "                   ('clf', c[1])])\n",
    "    print(f'Fitting {c[0]} classifier...')\n",
    "    clf.fit(X_train, y_train)\n",
    "    print('Predicting...')\n",
    "    y_pred= clf.predict(X_test)\n",
    "    results.append((c[0], f1_score(y_test, y_pred), y_pred))"
   ]
  },
  {
   "cell_type": "code",
   "execution_count": 28,
   "metadata": {},
   "outputs": [
    {
     "data": {
      "text/plain": [
       "Text(0.5, 0, 'f1 score')"
      ]
     },
     "execution_count": 28,
     "metadata": {},
     "output_type": "execute_result"
    },
    {
     "data": {
      "image/png": "[encoded data removed]",
      "text/plain": [
       "<Figure size 576x360 with 1 Axes>"
      ]
     },
     "metadata": {
      "needs_background": "light"
     },
     "output_type": "display_data"
    }
   ],
   "source": [
    "results= pd.DataFrame(results, columns=['classifier', 'f1_score', 'results'])\n",
    "results[['classifier', 'f1_score']].set_index('classifier').plot(kind='barh',\n",
    "                                                                 color= 'rgbkymc', legend=None, figsize=(8,5))\n",
    "plt.title('Classifiers f1 score')\n",
    "plt.xlabel('f1 score')"
   ]
  },
  {
   "cell_type": "code",
   "execution_count": 30,
   "metadata": {},
   "outputs": [
    {
     "data": {
      "text/html": [
       "<div>\n",
       "<style scoped>\n",
       "    .dataframe tbody tr th:only-of-type {\n",
       "        vertical-align: middle;\n",
       "    }\n",
       "\n",
       "    .dataframe tbody tr th {\n",
       "        vertical-align: top;\n",
       "    }\n",
       "\n",
       "    .dataframe thead th {\n",
       "        text-align: right;\n",
       "    }\n",
       "</style>\n",
       "<table border=\"1\" class=\"dataframe\">\n",
       "  <thead>\n",
       "    <tr style=\"text-align: right;\">\n",
       "      <th></th>\n",
       "      <th>classifier</th>\n",
       "      <th>f1_score</th>\n",
       "    </tr>\n",
       "  </thead>\n",
       "  <tbody>\n",
       "    <tr>\n",
       "      <th>0</th>\n",
       "      <td>LogisticRegression</td>\n",
       "      <td>0.700438</td>\n",
       "    </tr>\n",
       "    <tr>\n",
       "      <th>1</th>\n",
       "      <td>DecisionTree</td>\n",
       "      <td>0.610942</td>\n",
       "    </tr>\n",
       "    <tr>\n",
       "      <th>2</th>\n",
       "      <td>RandomForest</td>\n",
       "      <td>0.539683</td>\n",
       "    </tr>\n",
       "    <tr>\n",
       "      <th>3</th>\n",
       "      <td>Kneighbors</td>\n",
       "      <td>0.256722</td>\n",
       "    </tr>\n",
       "    <tr>\n",
       "      <th>4</th>\n",
       "      <td>MPL</td>\n",
       "      <td>0.775681</td>\n",
       "    </tr>\n",
       "    <tr>\n",
       "      <th>5</th>\n",
       "      <td>AdaBoost</td>\n",
       "      <td>0.672122</td>\n",
       "    </tr>\n",
       "    <tr>\n",
       "      <th>6</th>\n",
       "      <td>GradientBoosting</td>\n",
       "      <td>0.685824</td>\n",
       "    </tr>\n",
       "  </tbody>\n",
       "</table>\n",
       "</div>"
      ],
      "text/plain": [
       "           classifier  f1_score\n",
       "0  LogisticRegression  0.700438\n",
       "1        DecisionTree  0.610942\n",
       "2        RandomForest  0.539683\n",
       "3          Kneighbors  0.256722\n",
       "4                 MPL  0.775681\n",
       "5            AdaBoost  0.672122\n",
       "6    GradientBoosting  0.685824"
      ]
     },
     "execution_count": 30,
     "metadata": {},
     "output_type": "execute_result"
    }
   ],
   "source": [
    "results[['classifier', 'f1_score']]"
   ]
  },
  {
   "cell_type": "markdown",
   "metadata": {},
   "source": [
    "## AdaBoost"
   ]
  },
  {
   "cell_type": "markdown",
   "metadata": {},
   "source": [
    "### Logistic regression"
   ]
  },
  {
   "cell_type": "code",
   "execution_count": 39,
   "metadata": {},
   "outputs": [],
   "source": [
    "lr_param_grid = dict(\n",
    "    tvect__use_idf= [True, False],\n",
    "    tvect__ngram_range= [(1,1), (1,2), (1,3)],\n",
    "    clf__C= [ 1e2, 1e3, 1e4, 1e5],\n",
    "    clf__class_weight= [None, 'balanced']\n",
    "    )"
   ]
  },
  {
   "cell_type": "code",
   "execution_count": 55,
   "metadata": {},
   "outputs": [],
   "source": [
    "lr_clf= Pipeline([\n",
    "    ('tvect', TfidfVectorizer( ngram_range= (1,2),\n",
    "                              stop_words= 'english', lowercase= False)),\n",
    "    ('sel', SelectKBest(chi2, k=1000)),\n",
    "    ('clf', LogisticRegression(max_iter= 200, class_weight= 'balanced', C= 1e5))])"
   ]
  },
  {
   "cell_type": "code",
   "execution_count": 56,
   "metadata": {},
   "outputs": [],
   "source": [
    "lr_random_search= RandomizedSearchCV(lr_clf, param_distributions= lr_param_grid,\n",
    "                                    scoring= 'f1', n_iter=5, n_jobs=-1, cv=3)"
   ]
  },
  {
   "cell_type": "code",
   "execution_count": 57,
   "metadata": {},
   "outputs": [
    {
     "name": "stderr",
     "output_type": "stream",
     "text": [
      "C:\\Users\\IBM_ADMIN\\Anaconda3\\lib\\site-packages\\sklearn\\linear_model\\logistic.py:433: FutureWarning: Default solver will be changed to 'lbfgs' in 0.22. Specify a solver to silence this warning.\n",
      "  FutureWarning)\n"
     ]
    },
    {
     "data": {
      "text/plain": [
       "Pipeline(memory=None,\n",
       "     steps=[('tvect', TfidfVectorizer(analyzer='word', binary=False, decode_error='strict',\n",
       "        dtype=<class 'numpy.float64'>, encoding='utf-8', input='content',\n",
       "        lowercase=False, max_df=1.0, max_features=None, min_df=1,\n",
       "        ngram_range=(1, 2), norm='l2', preprocessor=None, smooth_idf=True...penalty='l2', random_state=None,\n",
       "          solver='warn', tol=0.0001, verbose=0, warm_start=False))])"
      ]
     },
     "execution_count": 57,
     "metadata": {},
     "output_type": "execute_result"
    }
   ],
   "source": [
    "lr_clf.fit(X_train,y_train)"
   ]
  },
  {
   "cell_type": "code",
   "execution_count": 58,
   "metadata": {},
   "outputs": [],
   "source": [
    "lr_y_pred= lr_clf.predict(X_test)"
   ]
  },
  {
   "cell_type": "code",
   "execution_count": 59,
   "metadata": {},
   "outputs": [
    {
     "data": {
      "text/plain": [
       "0.7092436974789915"
      ]
     },
     "execution_count": 59,
     "metadata": {},
     "output_type": "execute_result"
    }
   ],
   "source": [
    "f1_score(y_test, lr_y_pred)"
   ]
  },
  {
   "cell_type": "code",
   "execution_count": null,
   "metadata": {},
   "outputs": [],
   "source": []
  }
 ],
 "metadata": {
  "kernelspec": {
   "display_name": "Python 3",
   "language": "python",
   "name": "python3"
  },
  "language_info": {
   "codemirror_mode": {
    "name": "ipython",
    "version": 3
   },
   "file_extension": ".py",
   "mimetype": "text/x-python",
   "name": "python",
   "nbconvert_exporter": "python",
   "pygments_lexer": "ipython3",
   "version": "3.6.8"
  }
 },
 "nbformat": 4,
 "nbformat_minor": 2
}

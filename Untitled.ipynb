{
 "cells": [
  {
   "cell_type": "code",
   "execution_count": 113,
   "metadata": {},
   "outputs": [],
   "source": [
    "import pandas as pd\n",
    "import numpy as np\n",
    "import matplotlib.pyplot as plt\n",
    "from sklearn.utils import shuffle\n",
    "import seaborn as sns\n",
    "plt.style.use('ggplot')\n",
    "%matplotlib inline"
   ]
  },
  {
   "cell_type": "code",
   "execution_count": null,
   "metadata": {},
   "outputs": [],
   "source": [
    "# read the data from txt\n",
    "df= pd.read_table('datasets-v3_1/task-1/task1.train.txt', header= None)"
   ]
  },
  {
   "cell_type": "code",
   "execution_count": null,
   "metadata": {},
   "outputs": [],
   "source": [
    "df.columns = ['text', 'id', 'label']\n",
    "df.set_index('id', inplace= True)"
   ]
  },
  {
   "cell_type": "code",
   "execution_count": null,
   "metadata": {},
   "outputs": [],
   "source": [
    "df[:3]"
   ]
  },
  {
   "cell_type": "code",
   "execution_count": null,
   "metadata": {},
   "outputs": [],
   "source": [
    "df['label'].value_counts().plot(kind='barh')"
   ]
  },
  {
   "cell_type": "code",
   "execution_count": null,
   "metadata": {},
   "outputs": [],
   "source": [
    "df['label']= df['label'].map({'propaganda':1, 'non-propaganda':0})"
   ]
  },
  {
   "cell_type": "markdown",
   "metadata": {},
   "source": [
    "## Text Processing"
   ]
  },
  {
   "cell_type": "markdown",
   "metadata": {},
   "source": [
    "cleaning the data using spacy"
   ]
  },
  {
   "cell_type": "code",
   "execution_count": 11,
   "metadata": {},
   "outputs": [],
   "source": [
    "import string\n",
    "import re\n",
    "import spacy\n",
    "import pickle\n",
    "npl= spacy.load('en')"
   ]
  },
  {
   "cell_type": "code",
   "execution_count": 110,
   "metadata": {},
   "outputs": [],
   "source": [
    "# don't run this code! use the pickle\n",
    "def t_cleaner(text):\n",
    "    tokens = npl(text)\n",
    "    lemmas = []\n",
    "    for t in tokens:\n",
    "        if t.is_punct or t.is_space or t.like_num or t.like_url:\n",
    "            pass\n",
    "        else:\n",
    "            lemmas.append(t.lemma_.lower().strip() if t.lemma_ != \"-PRON-\" else t.lower_)\n",
    "    joined = ' '.join(lemmas)\n",
    "    corrected = re.sub(r'(.)\\1+', r'\\1\\1', joined)\n",
    "    return corrected"
   ]
  },
  {
   "cell_type": "code",
   "execution_count": 13,
   "metadata": {},
   "outputs": [
    {
     "name": "stdout",
     "output_type": "stream",
     "text": [
      "2.8 s ± 214 ms per loop (mean ± std. dev. of 7 runs, 1 loop each)\n"
     ]
    }
   ],
   "source": [
    "%timeit df['text'].iloc[:10].apply(t_tokenizer)"
   ]
  },
  {
   "cell_type": "code",
   "execution_count": 28,
   "metadata": {},
   "outputs": [
    {
     "name": "stdout",
     "output_type": "stream",
     "text": [
      "Total time 2.80h\n"
     ]
    }
   ],
   "source": [
    "print('Total time {0:.2f}h'.format((2.8 * df.shape[0]/10)/3600))"
   ]
  },
  {
   "cell_type": "code",
   "execution_count": 17,
   "metadata": {},
   "outputs": [],
   "source": [
    "df['text_clean']= df['text'].apply(t_cleaner)\n",
    "# dump to picle\n",
    "df.to_pickle('cleaned.pkl')"
   ]
  },
  {
   "cell_type": "markdown",
   "metadata": {},
   "source": [
    "## Text Analysis"
   ]
  },
  {
   "cell_type": "code",
   "execution_count": null,
   "metadata": {},
   "outputs": [],
   "source": [
    "# start importing here\n",
    "df= pd.read_pickle('cleaned.pkl')"
   ]
  },
  {
   "cell_type": "code",
   "execution_count": 114,
   "metadata": {},
   "outputs": [
    {
     "name": "stderr",
     "output_type": "stream",
     "text": [
      "C:\\Users\\IBM_ADMIN\\Anaconda3\\lib\\site-packages\\scipy\\stats\\stats.py:1713: FutureWarning: Using a non-tuple sequence for multidimensional indexing is deprecated; use `arr[tuple(seq)]` instead of `arr[seq]`. In the future this will be interpreted as an array index, `arr[np.array(seq)]`, which will result either in an error or a different result.\n",
      "  return np.add.reduce(sorted[indexer] * weights, axis=axis) / sumval\n"
     ]
    },
    {
     "data": {
      "image/png": "[encoded data removed]",
      "text/plain": [
       "<Figure size 720x576 with 1 Axes>"
      ]
     },
     "metadata": {
      "needs_background": "light"
     },
     "output_type": "display_data"
    }
   ],
   "source": [
    "# Visualize words count distribution\n",
    "\n",
    "df['text_len'] = df['text_clean'].apply(lambda words: len(words.split(\" \")))\n",
    "\n",
    "# Maximum words count in an article, Calculated after averaging & adding standard deviation\n",
    "max_word_count = np.round(df['text_len'].mean() + df['text_len'].std()).astype(int)\n",
    "\n",
    "plt.figure(figsize=(10, 8))\n",
    "\n",
    "sns.distplot(df['text_len'], hist=True, kde=True,\n",
    "             label='Text Words Count')\n",
    "\n",
    "plt.axvline(x=max_word_count, color='green',\n",
    "            linestyle='--', label='Maximum Words Count')\n",
    "plt.title('Text Words Count')\n",
    "plt.xlabel('Text Words Count')\n",
    "plt.legend()\n",
    "plt.show()"
   ]
  },
  {
   "cell_type": "markdown",
   "metadata": {},
   "source": [
    "Comparing text and cleanded text for document 0"
   ]
  },
  {
   "cell_type": "code",
   "execution_count": 38,
   "metadata": {
    "scrolled": true
   },
   "outputs": [
    {
     "data": {
      "text/plain": [
       "'When Billy Graham, America\\'s best-known evangelist, passed away Wednesday, he left more than survivors. America\\'s pastor also passed on a business model for running a corporate church -- one that would catapult him to success and leave a blueprint for future mega-pastors, even as it proved nearly impossible to duplicate.  He leaves behind two nonprofits: Samaritan\\'s Purse, an internationally focused humanitarian group that took in $680 million in revenues in 2016, and the Billy Graham Evangelistic Association. Incorporated in 1950, the BGEA had $110 million in revenues in 2014, the most recent year for which records are available.  Graham wrote nearly three dozen books and a weekly newspaper column, hosted a radio show and had a hand in the production of hundreds of movies. And he was involved in founding two magazines.  Rising from modest roots in North Carolina, Graham became America\\'s best-known pastor, preaching to over 200 million people over the course of his career -- arguably more than any religious figure in the history of the world. If that\\'s true, religious scholars say, it was Graham\\'s organizational strategy that made it possible.  Public services for Rev. Billy Graham begin Monday  \"I used to get a lot of phone calls from reporters asking, \"Who\\'s going to be the next Billy Graham?\" and my answer was always, \\'no one,\\'\" said Randall Balmer, a professor and chair of the department of religion at Princeton University.    \"He was one of the first of the preachers to adopt a corporate-style management for his organization, and they were very, very efficient,\" Balmer added. \"He understood the importance of corporate-style management in order to get his work done.\"  As a young man, Graham was influenced by the traveling evangelical preachers of the 1940s. Unlike most of them, he developed friends in the business community who persuaded him to incorporate his organization, which he did in 1950. The Billy Graham Evangelical Organization, which at various times maintained headquarters in nine countries, was followed by Grason Co., which published and distributed books and pamphlets.  Graham authored 33 of these during his life, including the bestsellers like \"Just As I Am\" and \"Living in God\\'s Love: The New York Crusade.\" Book royalties contributed up to $2 million a year to the BGEA\\'s coffers in the mid-2000s, according to IRS filings.  Graham\\'s radio show, \"The Hour of Decision,\" at its peak was broadcast on 900 stations in over 30 countries. The show ran for over 60 years, ending in 2016, but a four-station radio operation, Blue Ridge Broadcasting, remains. Graham\\'s film company, World Wide Pictures, was involved in production and distribution of over 100 movies, including perhaps its best-known film, \"The Restless Ones,\" released in 1965. Graham received a star on the Hollywood Walk of Fame in 1989, joking at its dedication that, as \"the only clergyman... I feel a little lonely out there.\"  Graham helped found two magazines, Decision and Christianity Today. At its peak, Decision had a bigger audience than The Atlantic, Harper\\'s and Esquire combined. Christianity Today remains the most widely read evangelical magazine, according a biographer of Graham\\'s. Subscriptions contributed more than $1 million annually to the BGEA\\'s balance sheet in recent years, records show.  The message and influence of Rev. Billy Graham  Graham was the first modern religious figure to successfully use mass media, whose influence grew concurrently with his, to spread his message. (The fact that his words were suitably nonsectarian and early support from the Hearst chain of publications undoubtedly helped.)  \"He came to prominence at a unique point in history when there were a number of new media technologies, and he seized on them and made himself into a religious celebrity the likes of which, with the possible exception of the pope, we just don\\'t have,\" Balmer said.  The broadcast success fed attendance at his Crusades, some of which saw attendance in the millions. \"Those events were the heart of Graham\\'s ministry. It became where you wanted to say you\\'d been to one,\" said D.G. Hart, professor of history at Hillsdale College.  In the 1970s, Graham purchased a thousand acres in North Carolina for a spiritual retreat and training center, Billy Graham Evangelical Center at the Cove. A two-night seminar there goes for $109 to $447 per person, according to Time magazine. Today that space is shared with the Billy Graham Library, which reportedly cost $27 million to build.  Graham\\'s precise worth isn\\'t known, but the religion website Beliefnet puts it at $25 million, on par with other nationally popular preachers Rick Warren and Creflo Dollar. It\\'s not higher partly because Graham was less protective of his name and brand than the religious celebrities he inspired, said Hart. \"Even though he was a celebrity, he didn\\'t hog that celebrity for himself -- he was willing to serve these other institutions,\" said Hart.  In addition, there\\'s a Billy Graham Center at Wheaton College in Illinois, Graham\\'s alma mater, and the Billy Graham School at the Southern Baptist Theological Seminary.  \"He wasn\\'t protective of his name, he didn\\'t let it become merely a brand, which a lot of celebrity types today do,\" Hart said. \"That generated a lot of goodwill, but it also ended up increasing his market share, as it were.\"Graham also avoided the fate of many of the preachers he inspired in never being credibly accused of corruption or malfeasance during a career spanning 50 years. There, too, the structure of a corporation played a role.  \"You look at the cautionary tale of these other people, and they were accountable to no one,\" said Balmer. \"Graham made himself accountable to a board of directors.\"  Related gallery: Billy Graham\\'s life in photos (provided by Tribune News Service)'"
      ]
     },
     "execution_count": 38,
     "metadata": {},
     "output_type": "execute_result"
    }
   ],
   "source": [
    "df['text'].iloc[0]"
   ]
  },
  {
   "cell_type": "code",
   "execution_count": 39,
   "metadata": {
    "scrolled": true
   },
   "outputs": [
    {
     "data": {
      "text/plain": [
       "'when billy graham america \\'s best know evangelist pass away wednesday he leave more than survivor america \\'s pastor also pass on a business model for run a corporate church that would catapult him to success and leave a blueprint for future mega pastor even as it prove nearly impossible to duplicate he leave behind nonprofit samaritan \\'s purse an internationally focus humanitarian group that take in $ in revenue in and the billy graham evangelistic association incorporate in the bgea have $ in revenue in the most recent year for which record be available graham write nearly dozen book and a weekly newspaper column host a radio show and have a hand in the production of hundred of movie and he be involve in found magazine rise from modest root in north carolina graham become america \\'s best know pastor preach to over people over the course of his career arguably more than any religious figure in the history of the world if that be true religious scholar say it be graham \\'s organizational strategy that make it possible public service for rev. billy graham begin monday i use to get a lot of phone call from reporter ask who be go to be the next billy graham and my answer be always no say randall balmer a professor and chair of the department of religion at princeton university he be of the first of the preacher to adopt a corporate style management for his organization and they be very very efficient balmer add he understand the importance of corporate style management in order to get his work do as a young man graham be influence by the travel evangelical preacher of the 1940 unlike most of them he develop friend in the business community who persuade him to incorporate his organization which he do in the billy graham evangelical organization which at various time maintain headquarter in country be follow by grason co. which publish and distribute book and pamphlet graham author of these during his life include the bestseller like just as i be and live in god \\'s love the new york crusade book royalty contribute up to $ a year to the bgea \\'s coffer in the mid-200 accord to irs filing graham \\'s radio show the hour of decision at its peak be broadcast on station in over country the show run for over year end in but a station radio operation blue ridge broadcasting remain graham \\'s film company world wide pictures be involve in production and distribution of over movie include perhaps its best know film the restless ones release in graham receive a star on the hollywood walk of fame in joke at its dedication that as the only clergyman i feel a little lonely out there graham help find magazine decision and christianity today at its peak decision have a big audience than the atlantic harper \\'s and esquire combine christianity today remain the most widely read evangelical magazine accord a biographer of graham \\'s subscription contribute more than $ annually to the bgea \\'s balance sheet in recent year record show the message and influence of rev. billy graham graham be the first modern religious figure to successfully use mass medium whose influence grow concurrently with his to spread his message the fact that his word be suitably nonsectarian and early support from the hearst chain of publication undoubtedly help he come to prominence at a unique point in history when there be a number of new medium technology and he seize on them and make himself into a religious celebrity the like of which with the possible exception of the pope we just do not have balmer say the broadcast success feed attendance at his crusades some of which see attendance in the million those event be the heart of graham \\'s ministry it become where you want to say you would be to say d.g. hart professor of history at hillsdale college in the 1970 graham purchase a acre in north carolina for a spiritual retreat and training center billy graham evangelical center at the cove a night seminar there go for $ to $ per person accord to time magazine today that space be share with the billy graham library which reportedly cost $ to build graham \\'s precise worth be not know but the religion website beliefnet put it at $ on par with other nationally popular preacher rick warren and creflo dollar it be not high partly because graham be less protective of his name and brand than the religious celebrity he inspire say hart even though he be a celebrity he do not hog that celebrity for himself he be willing to serve these other institution say hart in addition there be a billy graham center at wheaton college in illinois graham \\'s alma mater and the billy graham school at the southern baptist theological seminary he be not protective of his name he do not let it become merely a brand which a lot of celebrity type today do hart say that generate a lot of goodwill but it also end up increase his market share as it were.\"graham also avoid the fate of many of the preacher he inspire in never be credibly accuse of corruption or malfeasance during a career span year there too the structure of a corporation play a role you look at the cautionary tale of these other people and they be accountable to no say balmer graham make himself accountable to a board of director related gallery billy graham \\'s life in photo provide by tribune news service'"
      ]
     },
     "execution_count": 39,
     "metadata": {},
     "output_type": "execute_result"
    }
   ],
   "source": [
    "df['text_clean'].iloc[0] #check why \\'s wasn't removed, try to clean it if rerun"
   ]
  },
  {
   "cell_type": "code",
   "execution_count": null,
   "metadata": {},
   "outputs": [],
   "source": [
    "from sklearn.model_selection import train_test_split\n",
    "from sklearn.metrics import f1_score"
   ]
  },
  {
   "cell_type": "code",
   "execution_count": null,
   "metadata": {},
   "outputs": [],
   "source": [
    "# shuffle so not 1 and 0 are mixed\n",
    "df= shuffle(df)\n",
    "df[:5]"
   ]
  },
  {
   "cell_type": "code",
   "execution_count": 143,
   "metadata": {},
   "outputs": [],
   "source": [
    "# splitting the data in test and train\n",
    "X_train, X_test, y_train, y_test= train_test_split(df['text_clean'], df['label'],\n",
    "                                                   test_size= 0.25, random_state= 1234)"
   ]
  },
  {
   "cell_type": "markdown",
   "metadata": {},
   "source": [
    "## Task1 classification"
   ]
  },
  {
   "cell_type": "markdown",
   "metadata": {},
   "source": [
    "### test different calssifiers"
   ]
  },
  {
   "cell_type": "code",
   "execution_count": 78,
   "metadata": {},
   "outputs": [],
   "source": [
    "from sklearn.pipeline import Pipeline\n",
    "from sklearn.feature_extraction.text import CountVectorizer, TfidfTransformer, TfidfVectorizer\n",
    "from sklearn.neural_network import MLPClassifier # too long try to rerun\n",
    "from sklearn.tree import DecisionTreeClassifier\n",
    "from sklearn.ensemble import RandomForestClassifier, AdaBoostClassifier, GradientBoostingClassifier\n",
    "from sklearn.linear_model import LogisticRegression\n",
    "# from sklearn.svm import SVC, LinearSVC too long to compute\n",
    "from sklearn.pipeline import Pipeline\n",
    "from sklearn.neighbors import KNeighborsClassifier\n",
    "from sklearn.model_selection import RandomizedSearchCV"
   ]
  },
  {
   "cell_type": "code",
   "execution_count": null,
   "metadata": {},
   "outputs": [
    {
     "name": "stdout",
     "output_type": "stream",
     "text": [
      "Fitting LogisticRegression classifier...\n"
     ]
    },
    {
     "name": "stderr",
     "output_type": "stream",
     "text": [
      "C:\\Users\\IBM_ADMIN\\Anaconda3\\lib\\site-packages\\sklearn\\linear_model\\logistic.py:433: FutureWarning: Default solver will be changed to 'lbfgs' in 0.22. Specify a solver to silence this warning.\n",
      "  FutureWarning)\n"
     ]
    },
    {
     "name": "stdout",
     "output_type": "stream",
     "text": [
      "Predicting...\n",
      "Fitting DecisionTree classifier...\n"
     ]
    }
   ],
   "source": [
    "classifiers = [\n",
    "    ('LogisticRegression', LogisticRegression()),\n",
    "    ('DecisionTree', DecisionTreeClassifier()),\n",
    "    ('RandomForest', RandomForestClassifier()),\n",
    "    ('Kneighbors', KNeighborsClassifier(3)),\n",
    "    #('SVC', SVC(probability=True)),\n",
    "    #('MPL', MLPClassifier()),\n",
    "    ('AdaBoost', AdaBoostClassifier()),\n",
    "    ('GradientBoosting', GradientBoostingClassifier())]\n",
    "results=[]\n",
    "\n",
    "tf_vectorizer= TfidfVectorizer(stop_words= 'english', ngram_range=(1,3))\n",
    "\n",
    "for c in classifiers: \n",
    "    clf= Pipeline([('tvect', tf_vectorizer), \n",
    "                   ('clf', c[1])])\n",
    "    print(f'Fitting {c[0]} classifier...')\n",
    "    clf.fit(X_train, y_train)\n",
    "    print('Predicting...')\n",
    "    y_pred= clf.predict(X_test)\n",
    "    results.append((c[0], f1_score(y_pred, y_test), y_pred))"
   ]
  },
  {
   "cell_type": "code",
   "execution_count": null,
   "metadata": {},
   "outputs": [],
   "source": [
    "results= pd.DataFrame(results, columns=['classifier', 'f1_score', 'results'])\n",
    "results[['classifier', 'f1_score']].set_index('classifier').plot(kind='barh',\n",
    "                                                                 color= 'rgbkym', legend=None, figsize=(8,5))\n",
    "plt.title('Classifiers f1 score')\n",
    "plt.xlabel('f1 score')"
   ]
  },
  {
   "cell_type": "code",
   "execution_count": null,
   "metadata": {},
   "outputs": [],
   "source": [
    "results[['classifier', 'f1_score']]"
   ]
  },
  {
   "cell_type": "markdown",
   "metadata": {},
   "source": [
    "## tfidf"
   ]
  },
  {
   "cell_type": "code",
   "execution_count": 139,
   "metadata": {},
   "outputs": [],
   "source": [
    "tf_param_grid = dict(\n",
    "    tvect__max_df=[0.7, 0.8, 0.9],\n",
    "    tvect__min_df= [ 5, 10, 20],\n",
    "    tvect__max_features= np.arange(3000, 7000, 1000),\n",
    "    tvect__use_idf= [True, False],\n",
    "    tvect__ngram_range= [(1,2), (1,3)],\n",
    "    tvect__stop_words= [None, 'english'])"
   ]
  },
  {
   "cell_type": "code",
   "execution_count": 140,
   "metadata": {},
   "outputs": [
    {
     "name": "stderr",
     "output_type": "stream",
     "text": [
      "C:\\Users\\IBM_ADMIN\\Anaconda3\\lib\\site-packages\\sklearn\\linear_model\\logistic.py:433: FutureWarning: Default solver will be changed to 'lbfgs' in 0.22. Specify a solver to silence this warning.\n",
      "  FutureWarning)\n"
     ]
    },
    {
     "data": {
      "text/plain": [
       "RandomizedSearchCV(cv=3, error_score='raise-deprecating',\n",
       "          estimator=Pipeline(memory=None,\n",
       "     steps=[('tvect', TfidfVectorizer(analyzer='word', binary=False, decode_error='strict',\n",
       "        dtype=<class 'numpy.float64'>, encoding='utf-8', input='content',\n",
       "        lowercase=True, max_df=1.0, max_features=None, min_df=1,\n",
       "        ngram_range=(1, 1), norm='l2', preprocessor=None, smooth_idf=True,...penalty='l2', random_state=None, solver='warn',\n",
       "          tol=0.0001, verbose=0, warm_start=False))]),\n",
       "          fit_params=None, iid='warn', n_iter=5, n_jobs=-1,\n",
       "          param_distributions={'tvect__max_df': [0.7, 0.8, 0.9], 'tvect__min_df': [5, 10, 20], 'tvect__max_features': array([3000, 4000, 5000, 6000]), 'tvect__use_idf': [True, False], 'tvect__ngram_range': [(1, 2), (1, 3)], 'tvect__stop_words': [None, 'english']},\n",
       "          pre_dispatch='2*n_jobs', random_state=None, refit=True,\n",
       "          return_train_score='warn', scoring='f1', verbose=0)"
      ]
     },
     "execution_count": 140,
     "metadata": {},
     "output_type": "execute_result"
    }
   ],
   "source": [
    "tf_clf= Pipeline([('tvect', TfidfVectorizer()),\n",
    "                  ('clf', LogisticRegression())])\n",
    "\n",
    "tf_random_search= RandomizedSearchCV(tf_clf, param_distributions= tf_param_grid,\n",
    "                                    scoring= 'f1', n_iter=5, n_jobs=-1, cv=3)\n",
    "\n",
    "tf_random_search.fit(X_train, y_train)"
   ]
  },
  {
   "cell_type": "code",
   "execution_count": 142,
   "metadata": {},
   "outputs": [
    {
     "data": {
      "text/plain": [
       "0.6781539828755733"
      ]
     },
     "execution_count": 142,
     "metadata": {},
     "output_type": "execute_result"
    }
   ],
   "source": [
    "tf_random_search.best_score_"
   ]
  },
  {
   "cell_type": "markdown",
   "metadata": {},
   "source": [
    "## AdaBoost"
   ]
  },
  {
   "cell_type": "code",
   "execution_count": null,
   "metadata": {},
   "outputs": [],
   "source": []
  },
  {
   "cell_type": "code",
   "execution_count": 58,
   "metadata": {},
   "outputs": [],
   "source": [
    "ada_clf= Pipeline([('vect', CountVectorizer()),\n",
    "                  ('tfidf', TfidfTransformer()),\n",
    "                  ('clf', AdaBoostClassifier())])"
   ]
  },
  {
   "cell_type": "code",
   "execution_count": null,
   "metadata": {},
   "outputs": [],
   "source": [
    "ada_param_grid= dict()"
   ]
  },
  {
   "cell_type": "code",
   "execution_count": null,
   "metadata": {},
   "outputs": [],
   "source": [
    "tdfve"
   ]
  },
  {
   "cell_type": "code",
   "execution_count": null,
   "metadata": {},
   "outputs": [],
   "source": []
  },
  {
   "cell_type": "code",
   "execution_count": null,
   "metadata": {},
   "outputs": [],
   "source": []
  },
  {
   "cell_type": "code",
   "execution_count": null,
   "metadata": {},
   "outputs": [],
   "source": []
  },
  {
   "cell_type": "code",
   "execution_count": null,
   "metadata": {},
   "outputs": [],
   "source": []
  },
  {
   "cell_type": "markdown",
   "metadata": {},
   "source": [
    "### Logistic regression"
   ]
  },
  {
   "cell_type": "code",
   "execution_count": 63,
   "metadata": {},
   "outputs": [],
   "source": [
    "lr_param_grid = dict(\n",
    "                     vect__max_df=[0.7, 0.8, 0.9, 1],\n",
    "                     vect__min_df= [1, 5, 10, 15, 20],\n",
    "                     vect__ngram_range= [(1,1), (1,2), (1,3)],\n",
    "                     vect__stop_words= [None, 'english'],\n",
    "                     #clf__C= [1e3, 1e4, 1e5],\n",
    "                     #clf__class_weight= [None, 'balanced']\n",
    "                    )"
   ]
  },
  {
   "cell_type": "code",
   "execution_count": 83,
   "metadata": {},
   "outputs": [],
   "source": [
    "lr_clf= Pipeline([('tvec', TfidfVectorizer(lowercase= False)),\n",
    "                  ('clf', LogisticRegression())])"
   ]
  },
  {
   "cell_type": "code",
   "execution_count": 65,
   "metadata": {},
   "outputs": [],
   "source": [
    "lr_random_search= RandomizedSearchCV(lr_clf, param_distributions= lr_param_grid,\n",
    "                                    scoring= 'f1', n_iter=5, n_jobs=-1, cv=3)"
   ]
  },
  {
   "cell_type": "code",
   "execution_count": 66,
   "metadata": {},
   "outputs": [
    {
     "name": "stderr",
     "output_type": "stream",
     "text": [
      "C:\\Users\\IBM_ADMIN\\Anaconda3\\lib\\site-packages\\sklearn\\linear_model\\logistic.py:433: FutureWarning: Default solver will be changed to 'lbfgs' in 0.22. Specify a solver to silence this warning.\n",
      "  FutureWarning)\n"
     ]
    },
    {
     "data": {
      "text/plain": [
       "RandomizedSearchCV(cv=3, error_score='raise-deprecating',\n",
       "          estimator=Pipeline(memory=None,\n",
       "     steps=[('vect', CountVectorizer(analyzer='word', binary=False, decode_error='strict',\n",
       "        dtype=<class 'numpy.int64'>, encoding='utf-8', input='content',\n",
       "        lowercase=True, max_df=1.0, max_features=None, min_df=1,\n",
       "        ngram_range=(1, 1), preprocessor=None, stop_words=None,\n",
       "        strip...penalty='l2', random_state=None, solver='warn',\n",
       "          tol=0.0001, verbose=0, warm_start=False))]),\n",
       "          fit_params=None, iid='warn', n_iter=5, n_jobs=-1,\n",
       "          param_distributions={'vect__max_df': [0.7, 0.8, 0.9], 'vect__min_df': [1, 5, 10], 'vect__ngram_range': [(1, 1), (1, 2), (1, 3)], 'vect__stop_words': [None, 'english'], 'tfidf__use_idf': [True, False], 'clf__C': [1000.0, 10000.0, 100000.0], 'clf__class_weight': [None, 'balanced']},\n",
       "          pre_dispatch='2*n_jobs', random_state=None, refit=True,\n",
       "          return_train_score='warn', scoring='f1', verbose=0)"
      ]
     },
     "execution_count": 66,
     "metadata": {},
     "output_type": "execute_result"
    }
   ],
   "source": [
    "lr_random_search.fit(X_train, y_train)"
   ]
  },
  {
   "cell_type": "code",
   "execution_count": 67,
   "metadata": {},
   "outputs": [
    {
     "data": {
      "text/plain": [
       "0.8224248237516898"
      ]
     },
     "execution_count": 67,
     "metadata": {},
     "output_type": "execute_result"
    }
   ],
   "source": [
    "lr_random_search.best_score_"
   ]
  },
  {
   "cell_type": "code",
   "execution_count": 68,
   "metadata": {},
   "outputs": [
    {
     "data": {
      "text/plain": [
       "{'vect__stop_words': 'english',\n",
       " 'vect__ngram_range': (1, 3),\n",
       " 'vect__min_df': 5,\n",
       " 'vect__max_df': 0.7,\n",
       " 'tfidf__use_idf': True,\n",
       " 'clf__class_weight': 'balanced',\n",
       " 'clf__C': 100000.0}"
      ]
     },
     "execution_count": 68,
     "metadata": {},
     "output_type": "execute_result"
    }
   ],
   "source": [
    "lr_random_search.best_params_"
   ]
  },
  {
   "cell_type": "code",
   "execution_count": null,
   "metadata": {},
   "outputs": [],
   "source": []
  },
  {
   "cell_type": "code",
   "execution_count": 50,
   "metadata": {},
   "outputs": [
    {
     "name": "stdout",
     "output_type": "stream",
     "text": [
      "391 ms ± 28.5 ms per loop (mean ± std. dev. of 7 runs, 1 loop each)\n"
     ]
    }
   ],
   "source": [
    "%timeit df['text'].iloc[:10].apply(t_tokenizer)"
   ]
  },
  {
   "cell_type": "code",
   "execution_count": 40,
   "metadata": {},
   "outputs": [],
   "source": [
    "lr1_clf= Pipeline([('vect', CountVectorizer(tokenizer=tokenizeText, ngram_range=(1,2))),\n",
    "                   ('tfidf', TfidfTransformer()),\n",
    "                   ('clf', LogisticRegression(class_weight= 'balanced', C=1e4))])"
   ]
  },
  {
   "cell_type": "code",
   "execution_count": 41,
   "metadata": {},
   "outputs": [
    {
     "name": "stderr",
     "output_type": "stream",
     "text": [
      "C:\\Users\\IBM_ADMIN\\Anaconda3\\lib\\site-packages\\sklearn\\linear_model\\logistic.py:433: FutureWarning: Default solver will be changed to 'lbfgs' in 0.22. Specify a solver to silence this warning.\n",
      "  FutureWarning)\n"
     ]
    },
    {
     "data": {
      "text/plain": [
       "Pipeline(memory=None,\n",
       "     steps=[('cleanText', <__main__.CleanTextTransformer object at 0x00000000775AB240>), ('vect', CountVectorizer(analyzer='word', binary=False, decode_error='strict',\n",
       "        dtype=<class 'numpy.int64'>, encoding='utf-8', input='content',\n",
       "        lowercase=True, max_df=1.0, max_features=None, min_df=1,\n",
       "...penalty='l2', random_state=None,\n",
       "          solver='warn', tol=0.0001, verbose=0, warm_start=False))])"
      ]
     },
     "execution_count": 41,
     "metadata": {},
     "output_type": "execute_result"
    }
   ],
   "source": [
    "lr1_clf.fit(X_train, y_train)"
   ]
  },
  {
   "cell_type": "code",
   "execution_count": 42,
   "metadata": {},
   "outputs": [],
   "source": [
    "Y_predict_lr1= lr1_clf.predict(X_test)"
   ]
  },
  {
   "cell_type": "code",
   "execution_count": 43,
   "metadata": {},
   "outputs": [
    {
     "data": {
      "text/plain": [
       "0.7648848326814429"
      ]
     },
     "execution_count": 43,
     "metadata": {},
     "output_type": "execute_result"
    }
   ],
   "source": [
    "f1_score(Y_predict_lr1, y_test)"
   ]
  },
  {
   "cell_type": "code",
   "execution_count": null,
   "metadata": {},
   "outputs": [],
   "source": []
  },
  {
   "cell_type": "markdown",
   "metadata": {},
   "source": [
    "## Decision Tree"
   ]
  },
  {
   "cell_type": "code",
   "execution_count": null,
   "metadata": {},
   "outputs": [],
   "source": []
  },
  {
   "cell_type": "code",
   "execution_count": 93,
   "metadata": {},
   "outputs": [],
   "source": [
    "ada_param_grid = dict(\n",
    "    tvect__max_df=[0.7, 0.8, 0.9],\n",
    "    tvect__min_df= [5, 10],\n",
    "    tvect__ngram_range= [(1,2), (1,3)],\n",
    "    #tclf__class_weight= [None, 'balanced'],\n",
    "    #clf__max_depths= np.linspace(1, 32, 32, endpoint=True)\n",
    "    \n",
    "                    )"
   ]
  },
  {
   "cell_type": "code",
   "execution_count": 98,
   "metadata": {},
   "outputs": [],
   "source": [
    "ada_clf= Pipeline([('tvect', TfidfVectorizer(stop_words= 'english')),\n",
    "                  ('clf', DecisionTreeClassifier())])"
   ]
  },
  {
   "cell_type": "code",
   "execution_count": 101,
   "metadata": {},
   "outputs": [],
   "source": [
    "dtree_random_search= RandomizedSearchCV(dtree_clf, param_distributions= dtree_param_grid,\n",
    "                                    scoring= 'f1', n_iter=5, n_jobs=-1, cv=3)"
   ]
  },
  {
   "cell_type": "code",
   "execution_count": 102,
   "metadata": {},
   "outputs": [
    {
     "data": {
      "text/plain": [
       "RandomizedSearchCV(cv=3, error_score='raise-deprecating',\n",
       "          estimator=Pipeline(memory=None,\n",
       "     steps=[('tvect', TfidfVectorizer(analyzer='word', binary=False, decode_error='strict',\n",
       "        dtype=<class 'numpy.float64'>, encoding='utf-8', input='content',\n",
       "        lowercase=True, max_df=1.0, max_features=None, min_df=1,\n",
       "        ngram_range=(1, 1), norm='l2', preprocessor=None, smooth_idf=True,...      min_weight_fraction_leaf=0.0, presort=False, random_state=None,\n",
       "            splitter='best'))]),\n",
       "          fit_params=None, iid='warn', n_iter=5, n_jobs=-1,\n",
       "          param_distributions={'tvect__max_df': [0.7, 0.8, 0.9], 'tvect__min_df': [5, 10], 'tvect__ngram_range': [(1, 2), (1, 3)]},\n",
       "          pre_dispatch='2*n_jobs', random_state=None, refit=True,\n",
       "          return_train_score='warn', scoring='f1', verbose=0)"
      ]
     },
     "execution_count": 102,
     "metadata": {},
     "output_type": "execute_result"
    }
   ],
   "source": [
    "dtree_random_search.fit(X_train, y_train)"
   ]
  },
  {
   "cell_type": "code",
   "execution_count": 104,
   "metadata": {},
   "outputs": [
    {
     "data": {
      "text/plain": [
       "{'tvect__ngram_range': (1, 2), 'tvect__min_df': 10, 'tvect__max_df': 0.9}"
      ]
     },
     "execution_count": 104,
     "metadata": {},
     "output_type": "execute_result"
    }
   ],
   "source": [
    "dtree_random_search.best_params_"
   ]
  },
  {
   "cell_type": "code",
   "execution_count": null,
   "metadata": {},
   "outputs": [],
   "source": []
  }
 ],
 "metadata": {
  "kernelspec": {
   "display_name": "Python 3",
   "language": "python",
   "name": "python3"
  }
 },
 "nbformat": 4,
 "nbformat_minor": 2
}
